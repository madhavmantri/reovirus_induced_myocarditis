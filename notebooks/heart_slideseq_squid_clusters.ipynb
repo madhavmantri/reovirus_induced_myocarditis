{
 "cells": [
  {
   "cell_type": "code",
   "execution_count": 149,
   "id": "concerned-american",
   "metadata": {},
   "outputs": [],
   "source": [
    "import squidpy as sq\n",
    "import pandas as pd\n",
    "import matplotlib.pyplot as plt\n",
    "import seaborn as sns\n",
    "import scanpy as sc\n",
    "import numpy as np"
   ]
  },
  {
   "cell_type": "code",
   "execution_count": 150,
   "id": "meaningful-optics",
   "metadata": {},
   "outputs": [
    {
     "name": "stdout",
     "output_type": "stream",
     "text": [
      "-----\n",
      "anndata     0.8.0\n",
      "scanpy      1.9.1\n",
      "-----\n",
      "PIL                         9.1.1\n",
      "PyQt5                       NA\n",
      "anyio                       NA\n",
      "appdirs                     1.4.4\n",
      "asciitree                   NA\n",
      "attr                        21.2.0\n",
      "babel                       2.9.1\n",
      "backcall                    0.2.0\n",
      "build                       0.8.0\n",
      "cachey                      0.2.1\n",
      "certifi                     2022.06.15\n",
      "cffi                        1.15.0\n",
      "charset_normalizer          2.0.7\n",
      "cloudpickle                 2.1.0\n",
      "cycler                      0.10.0\n",
      "cython_runtime              NA\n",
      "dask                        2022.6.1\n",
      "dask_image                  2021.12.0\n",
      "dateutil                    2.8.2\n",
      "debugpy                     1.5.0\n",
      "decorator                   5.1.1\n",
      "defusedxml                  0.7.1\n",
      "docrep                      0.3.2\n",
      "docstring_parser            NA\n",
      "entrypoints                 0.3\n",
      "fasteners                   0.17.3\n",
      "fastjsonschema              NA\n",
      "fontTools                   4.33.3\n",
      "fsspec                      2022.5.0\n",
      "h5py                        3.7.0\n",
      "heapdict                    NA\n",
      "hsluv                       5.0.3\n",
      "idna                        3.3\n",
      "igraph                      0.9.11\n",
      "imageio                     2.19.3\n",
      "inflect                     NA\n",
      "ipykernel                   6.4.1\n",
      "ipython_genutils            0.2.0\n",
      "ipywidgets                  7.7.1\n",
      "jedi                        0.18.0\n",
      "jinja2                      2.11.3\n",
      "joblib                      1.1.0\n",
      "json5                       NA\n",
      "jsonschema                  4.1.0\n",
      "jupyter_server              1.11.1\n",
      "jupyterlab_server           2.8.2\n",
      "kiwisolver                  1.4.3\n",
      "leidenalg                   0.8.10\n",
      "llvmlite                    0.38.1\n",
      "magicgui                    0.5.1\n",
      "markupsafe                  2.0.1\n",
      "matplotlib                  3.5.2\n",
      "matplotlib_inline           NA\n",
      "matplotlib_scalebar         0.8.1\n",
      "mpl_toolkits                NA\n",
      "napari                      0.4.16\n",
      "napari_plugin_engine        0.2.0\n",
      "natsort                     8.1.0\n",
      "nbclassic                   NA\n",
      "nbformat                    5.1.3\n",
      "networkx                    2.8.4\n",
      "npe2                        0.5.1\n",
      "numba                       0.55.2\n",
      "numcodecs                   0.10.0\n",
      "numpy                       1.22.4\n",
      "numpydoc                    1.4.0\n",
      "omnipath                    1.0.5\n",
      "packaging                   21.3\n",
      "pandas                      1.4.3\n",
      "parso                       0.8.2\n",
      "pep517                      0.12.0\n",
      "pexpect                     4.8.0\n",
      "pickleshare                 0.7.5\n",
      "pkg_resources               NA\n",
      "prometheus_client           NA\n",
      "prompt_toolkit              3.0.20\n",
      "psutil                      5.9.1\n",
      "psygnal                     0.3.5\n",
      "ptyprocess                  0.7.0\n",
      "pvectorc                    NA\n",
      "pycparser                   2.20\n",
      "pydantic                    1.9.1\n",
      "pydev_ipython               NA\n",
      "pydevconsole                NA\n",
      "pydevd                      2.4.1\n",
      "pydevd_concurrency_analyser NA\n",
      "pydevd_file_utils           NA\n",
      "pydevd_plugins              NA\n",
      "pydevd_tracing              NA\n",
      "pygments                    2.10.0\n",
      "pyparsing                   3.0.9\n",
      "pyrsistent                  NA\n",
      "pytomlpp                    NA\n",
      "pytz                        2021.1\n",
      "pywt                        1.3.0\n",
      "qtpy                        2.1.0\n",
      "requests                    2.26.0\n",
      "scipy                       1.6.1\n",
      "seaborn                     0.11.2\n",
      "send2trash                  NA\n",
      "session_info                1.0.0\n",
      "setuptools                  62.6.0\n",
      "sip                         NA\n",
      "six                         1.16.0\n",
      "skimage                     0.19.3\n",
      "sklearn                     1.1.1\n",
      "sniffio                     1.2.0\n",
      "sphinx                      5.0.2\n",
      "sphinxcontrib               NA\n",
      "squidpy                     1.2.2\n",
      "statsmodels                 0.13.2\n",
      "storemagic                  NA\n",
      "superqt                     0.3.2\n",
      "terminado                   0.12.1\n",
      "texttable                   1.6.4\n",
      "threadpoolctl               2.1.0\n",
      "tifffile                    2022.5.4\n",
      "tlz                         0.11.2\n",
      "tomli                       2.0.1\n",
      "toolz                       0.11.2\n",
      "tornado                     6.1\n",
      "tqdm                        4.64.0\n",
      "traitlets                   5.1.0\n",
      "typing_extensions           NA\n",
      "urllib3                     1.26.7\n",
      "validators                  0.20.0\n",
      "vispy                       0.10.0\n",
      "wcwidth                     0.2.5\n",
      "websocket                   1.2.1\n",
      "wrapt                       1.12.1\n",
      "xarray                      2022.3.0\n",
      "yaml                        6.0\n",
      "zarr                        2.12.0\n",
      "zipp                        NA\n",
      "zmq                         22.3.0\n",
      "-----\n",
      "IPython             7.28.0\n",
      "jupyter_client      7.0.6\n",
      "jupyter_core        4.8.1\n",
      "jupyterlab          3.2.0\n",
      "notebook            6.4.4\n",
      "-----\n",
      "Python 3.9.13 | packaged by conda-forge | (main, May 27 2022, 16:56:21) [GCC 10.3.0]\n",
      "Linux-3.10.0-957.el7.x86_64-x86_64-with-glibc2.17\n",
      "-----\n",
      "Session information updated at 2022-08-13 16:41\n"
     ]
    }
   ],
   "source": [
    "sc.settings.verbosity = 3             # verbosity: errors (0), warnings (1), info (2), hints (3)\n",
    "sc.logging.print_versions()\n",
    "sc.settings.set_figure_params(dpi=80, facecolor='white', frameon=True, figsize=(5, 5))"
   ]
  },
  {
   "cell_type": "code",
   "execution_count": 154,
   "id": "spanish-dating",
   "metadata": {},
   "outputs": [],
   "source": [
    "adata_file = f\"t1l_day7_slideseq_cell2location.h5ad\"\n",
    "adata_vis = sc.read_h5ad(adata_file)"
   ]
  },
  {
   "cell_type": "code",
   "execution_count": 87,
   "id": "a670d0cf",
   "metadata": {},
   "outputs": [
    {
     "name": "stdout",
     "output_type": "stream",
     "text": [
      "AxisArrays with keys: means_cell_abundance_w_sf, q05_cell_abundance_w_sf, q95_cell_abundance_w_sf, spatial, stds_cell_abundance_w_sf\n"
     ]
    }
   ],
   "source": [
    "print(adata_vis.obsm)\n",
    "adata_vis.obsm['q05_cell_proportions'] = adata_vis.obsm['q05_cell_abundance_w_sf'].div(adata_vis.obsm['q05_cell_abundance_w_sf'].sum(axis=1), axis=0)"
   ]
  },
  {
   "cell_type": "code",
   "execution_count": 88,
   "id": "24953400",
   "metadata": {},
   "outputs": [],
   "source": [
    "# add 5% quantile, representing confident cell abundance, 'at least this amount is present',\n",
    "# to adata.obs with nice names for plotting\n",
    "adata_vis.obs[\"total_abundance\"] = adata_vis.obsm['q05_cell_abundance_w_sf'].sum(axis = 1)\n",
    "# adata_vis.obs[adata_vis.uns['mod']['factor_names']] = adata_vis.obsm['q05_cell_abundance_w_sf']\n",
    "adata_vis.obs[adata_vis.uns['mod']['factor_names']] = adata_vis.obsm['q05_cell_proportions']\n",
    "ct_list = list(adata_vis.uns['mod']['factor_names'])\n",
    "adata_vis.obs[\"max_pred\"] = adata_vis.obs[adata_vis.uns['mod']['factor_names']].max(axis=1)\n",
    "adata_vis.obs[\"max_pred_celltype\"] = adata_vis.obs[adata_vis.uns['mod']['factor_names']].idxmax(axis=1)\n",
    "adata_vis.obs[\"max_pred_celltype\"] = adata_vis.obs[\"max_pred_celltype\"].astype(\"category\")"
   ]
  },
  {
   "cell_type": "code",
   "execution_count": 89,
   "id": "914c91f9",
   "metadata": {
    "scrolled": false
   },
   "outputs": [
    {
     "data": {
      "text/plain": [
       "Cardiomyocytes                             34058\n",
       "T cells                                     1444\n",
       "Dendritic cells                             1086\n",
       "Erythroblasts                                844\n",
       "Ccl2+ fibroblasts                            670\n",
       "NK cells                                     418\n",
       "Macrophages                                  408\n",
       "Cxcl9-high inflamed\\n endothelial cells      368\n",
       "Neutrophils                                  366\n",
       "Fibroblasts                                  253\n",
       "Endocardial cells                            132\n",
       "Smooth muscle cells                          100\n",
       "Mesenchymal endothelial cells                 89\n",
       "Pericardial cells                             56\n",
       "B cells                                       45\n",
       "Schwann cells                                 25\n",
       "Inflamed endothelial cells                    24\n",
       "Pericytes                                      8\n",
       "Endothelial cells                              6\n",
       "Name: max_pred_celltype, dtype: int64"
      ]
     },
     "execution_count": 89,
     "metadata": {},
     "output_type": "execute_result"
    }
   ],
   "source": [
    "adata_vis.obs[\"max_pred_celltype\"].value_counts()"
   ]
  },
  {
   "cell_type": "code",
   "execution_count": 90,
   "id": "76ca71a9",
   "metadata": {},
   "outputs": [
    {
     "name": "stdout",
     "output_type": "stream",
     "text": [
      "Creating graph using `generic` coordinates and `None` transform and `1` libraries.\n",
      "Adding `adata.obsp['spatial_connectivities']`\n",
      "       `adata.obsp['spatial_distances']`\n",
      "       `adata.uns['spatial_neighbors']`\n",
      "Finish (0:00:00)\n"
     ]
    }
   ],
   "source": [
    "sq.gr.spatial_neighbors(adata_vis, coord_type=\"generic\")"
   ]
  },
  {
   "cell_type": "code",
   "execution_count": 93,
   "id": "4d6c0dcc",
   "metadata": {},
   "outputs": [],
   "source": [
    "adata_vis.obs[\"celltypes_leiden_1.0\"] = sc.read_h5ad(\"./../t1l_day7_slideseq_mm_with_image_filtered_processed.h5ad\").obs[\"celltypes_leiden_1.0\"]"
   ]
  },
  {
   "cell_type": "code",
   "execution_count": 155,
   "id": "df528e10",
   "metadata": {},
   "outputs": [],
   "source": [
    "adata_vis = sc.read_h5ad(\"./../t1l_day7_slideseq_mm_with_image_filtered_processed.h5ad\")"
   ]
  },
  {
   "cell_type": "code",
   "execution_count": 156,
   "id": "2265790e",
   "metadata": {},
   "outputs": [
    {
     "name": "stdout",
     "output_type": "stream",
     "text": [
      "Creating graph using `generic` coordinates and `None` transform and `1` libraries.\n",
      "Adding `adata.obsp['spatial_connectivities']`\n",
      "       `adata.obsp['spatial_distances']`\n",
      "       `adata.uns['spatial_neighbors']`\n",
      "Finish (0:00:00)\n"
     ]
    }
   ],
   "source": [
    "sq.gr.spatial_neighbors(adata_vis, coord_type=\"generic\")"
   ]
  },
  {
   "cell_type": "code",
   "execution_count": 157,
   "id": "86128393",
   "metadata": {
    "scrolled": true
   },
   "outputs": [
    {
     "name": "stdout",
     "output_type": "stream",
     "text": [
      "Calculating neighborhood enrichment using `20` core(s)\n"
     ]
    },
    {
     "data": {
      "application/vnd.jupyter.widget-view+json": {
       "model_id": "f115b261af4b4634b4d352c302f1547a",
       "version_major": 2,
       "version_minor": 0
      },
      "text/plain": [
       "  0%|          | 0/1000 [00:00<?, ?/s]"
      ]
     },
     "metadata": {},
     "output_type": "display_data"
    },
    {
     "name": "stdout",
     "output_type": "stream",
     "text": [
      "Adding `adata.uns['celltypes_leiden_1.0_nhood_enrichment']`\n",
      "Finish (0:03:13)\n"
     ]
    }
   ],
   "source": [
    "sq.gr.nhood_enrichment(adata_vis, cluster_key=\"celltypes_leiden_1.0\", n_jobs = 20)"
   ]
  },
  {
   "cell_type": "code",
   "execution_count": 159,
   "id": "2bf3de3f",
   "metadata": {},
   "outputs": [
    {
     "data": {
      "image/png": "[encoded data removed]",
      "text/plain": [
       "<Figure size 136x128 with 5 Axes>"
      ]
     },
     "metadata": {
      "image/png": {
       "height": 152,
       "width": 266
      }
     },
     "output_type": "display_data"
    }
   ],
   "source": [
    "sc.settings.set_figure_params(dpi=80, facecolor='white', frameon=True, vector_friendly=False, figsize=(2.2, 2.22), fontsize=6)\n",
    "sq.pl.nhood_enrichment(adata_vis, cluster_key=\"celltypes_leiden_1.0\", method=\"single\", vmin = -40, vmax = 40, cmap=\"viridis_r\", \n",
    "    palette=['#17becf', \n",
    " '#1f77b4',\n",
    " '#ff7f0e',\n",
    " '#d62728',\n",
    " '#2ca02c',\n",
    " '#8c564b',\n",
    " '#e377c2',\n",
    " '#bcbd22',\n",
    " '#7f7f7f'], figsize=(1.7,1.6), save=\"slideseq_heatmap_1.pdf\")"
   ]
  },
  {
   "cell_type": "code",
   "execution_count": 163,
   "id": "cbb54f70",
   "metadata": {},
   "outputs": [
    {
     "data": {
      "text/plain": [
       "{'zscore': array([[ 7.09923508e+01,  2.73685861e+01, -2.73216884e+01,\n",
       "         -5.05610272e+01, -4.45324977e+01, -2.44768831e+01,\n",
       "          1.80923791e+00, -1.71574658e+01, -8.83724897e+00],\n",
       "        [ 2.74491864e+01,  1.69225456e+01, -4.72351294e+00,\n",
       "         -2.32761642e+01, -2.14981887e+01, -4.86455291e+00,\n",
       "          3.65696210e+00, -8.12712111e+00, -1.27890388e+01],\n",
       "        [-2.79284149e+01, -4.71688494e+00,  3.88411292e+01,\n",
       "          6.41743025e+00,  7.51193312e+00, -7.07600838e+00,\n",
       "          5.97585297e-01,  1.64512064e+00, -2.02104597e+01],\n",
       "        [-4.95998860e+01, -2.25713256e+01,  5.69307288e+00,\n",
       "          7.14768190e+01,  3.12421668e+01, -5.68494816e+00,\n",
       "         -6.89886412e+00,  4.42720101e+00, -2.27016288e+01],\n",
       "        [-4.27367188e+01, -2.19160341e+01,  7.68312663e+00,\n",
       "          3.05706662e+01,  5.87406355e+01, -4.93184274e+00,\n",
       "         -5.99000096e+00,  7.24962420e+00, -1.87115451e+01],\n",
       "        [-2.31358187e+01, -4.19271593e+00, -6.88851051e+00,\n",
       "         -5.39469082e+00, -4.35936464e+00,  5.48749641e+01,\n",
       "         -3.56870458e+00, -4.05513809e+00, -1.73058850e+01],\n",
       "        [ 1.60145279e+00,  3.08141677e+00,  3.26232319e-02,\n",
       "         -6.04385399e+00, -4.54666660e+00, -3.66128327e+00,\n",
       "          1.12330567e+01, -1.70223324e+00, -5.67622635e-01],\n",
       "        [-1.66214430e+01, -7.32894996e+00,  8.83900236e-01,\n",
       "          4.19927853e+00,  7.59248521e+00, -3.31049523e+00,\n",
       "         -1.32790837e+00,  3.71239156e+01, -6.39506889e+00],\n",
       "        [-8.35606475e+00, -1.27656614e+01, -1.97465845e+01,\n",
       "         -2.27686936e+01, -1.94216191e+01, -1.71158719e+01,\n",
       "         -4.01867134e-01, -5.85255393e+00,  8.26391492e+01]]),\n",
       " 'count': array([[15919, 12415,  3688,  1402,  1326,  3734,  1716,  1175,  4065],\n",
       "        [12407, 13807,  6145,  3676,  3125,  5918,  2092,  1819,  4584],\n",
       "        [ 3586,  6131,  6354,  3091,  2741,  3035,  1084,  1225,  1933],\n",
       "        [ 1393,  3673,  3063,  6332,  3179,  2424,   650,  1047,  1305],\n",
       "        [ 1333,  3106,  2748,  3155,  4566,  2096,   573,   997,  1245],\n",
       "        [ 3774,  5958,  3049,  2443,  2125,  7110,   924,  1007,  2010],\n",
       "        [ 1711,  2071,  1067,   671,   606,   919,   580,   323,   872],\n",
       "        [ 1175,  1833,  1201,  1044,  1008,  1027,   330,  1314,   796],\n",
       "        [ 4074,  4562,  1923,  1292,  1208,  2003,   877,   813,  7622]],\n",
       "       dtype=uint32)}"
      ]
     },
     "execution_count": 163,
     "metadata": {},
     "output_type": "execute_result"
    }
   ],
   "source": [
    "adata_vis.uns[\"celltypes_leiden_1.0_nhood_enrichment\"]"
   ]
  },
  {
   "cell_type": "code",
   "execution_count": null,
   "id": "43742b6d",
   "metadata": {},
   "outputs": [],
   "source": []
  }
 ],
 "metadata": {
  "kernelspec": {
   "display_name": "Python 3 (ipykernel)",
   "language": "python",
   "name": "python3"
  },
  "language_info": {
   "codemirror_mode": {
    "name": "ipython",
    "version": 3
   },
   "file_extension": ".py",
   "mimetype": "text/x-python",
   "name": "python",
   "nbconvert_exporter": "python",
   "pygments_lexer": "ipython3",
   "version": "3.9.13"
  }
 },
 "nbformat": 4,
 "nbformat_minor": 5
}
