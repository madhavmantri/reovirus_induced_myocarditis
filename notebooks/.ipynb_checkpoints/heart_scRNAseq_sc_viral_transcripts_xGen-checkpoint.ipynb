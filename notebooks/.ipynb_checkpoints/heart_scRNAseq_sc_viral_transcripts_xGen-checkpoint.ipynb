{
 "cells": [
  {
   "cell_type": "code",
   "execution_count": 1,
   "id": "perfect-jaguar",
   "metadata": {},
   "outputs": [],
   "source": [
    "import numpy as np\n",
    "import pandas as pd\n",
    "import scanpy as sc\n",
    "import matplotlib.pyplot as plt\n",
    "import seaborn as sns\n",
    "import gseapy"
   ]
  },
  {
   "cell_type": "code",
   "execution_count": 2,
   "id": "chinese-medline",
   "metadata": {},
   "outputs": [
    {
     "name": "stdout",
     "output_type": "stream",
     "text": [
      "WARNING: If you miss a compact list, please try `print_header`!\n",
      "-----\n",
      "anndata     0.7.5\n",
      "scanpy      1.8.1\n",
      "sinfo       0.3.1\n",
      "-----\n",
      "OpenSSL             20.0.1\n",
      "PIL                 8.1.1\n",
      "anndata             0.7.5\n",
      "anyio               NA\n",
      "appdirs             1.4.4\n",
      "argon2              20.1.0\n",
      "asciitree           NA\n",
      "attr                20.3.0\n",
      "babel               2.9.0\n",
      "backcall            0.2.0\n",
      "beta_ufunc          NA\n",
      "binom_ufunc         NA\n",
      "bioservices         1.7.11\n",
      "boto3               1.20.24\n",
      "botocore            1.23.24\n",
      "brotli              NA\n",
      "bs4                 4.9.3\n",
      "bson                NA\n",
      "cairo               1.20.0\n",
      "certifi             2021.10.08\n",
      "cffi                1.14.5\n",
      "chardet             4.0.0\n",
      "cloudpickle         1.3.0\n",
      "colorama            0.4.4\n",
      "colorlog            NA\n",
      "cryptography        3.4.4\n",
      "cycler              0.10.0\n",
      "cython_runtime      NA\n",
      "dask                2021.02.0\n",
      "dateutil            2.8.1\n",
      "decorator           4.4.2\n",
      "docutils            0.16\n",
      "easydev             0.11.0\n",
      "fasteners           NA\n",
      "future_fstrings     NA\n",
      "google              NA\n",
      "gridfs              NA\n",
      "gseapy              0.10.4\n",
      "h5py                2.10.0\n",
      "idna                2.10\n",
      "igraph              0.8.3\n",
      "ipykernel           5.5.0\n",
      "ipython_genutils    0.2.0\n",
      "ipywidgets          7.6.3\n",
      "jedi                0.18.0\n",
      "jinja2              2.11.3\n",
      "jmespath            0.10.0\n",
      "joblib              1.0.1\n",
      "json5               NA\n",
      "jsonschema          3.2.0\n",
      "jupyter_server      1.7.0\n",
      "jupyterlab_server   2.5.1\n",
      "kiwisolver          1.3.1\n",
      "leidenalg           0.8.3\n",
      "llvmlite            0.35.0\n",
      "louvain             0.7.0\n",
      "lxml                4.6.3\n",
      "markupsafe          1.1.1\n",
      "matplotlib          3.3.4\n",
      "mpl_toolkits        NA\n",
      "natsort             7.1.1\n",
      "nbclassic           NA\n",
      "nbformat            5.1.2\n",
      "nbinom_ufunc        NA\n",
      "numba               0.52.0\n",
      "numcodecs           0.7.3\n",
      "numexpr             2.7.2\n",
      "numpy               1.19.5\n",
      "packaging           20.9\n",
      "pandas              1.3.5\n",
      "parso               0.8.1\n",
      "pexpect             4.8.0\n",
      "pickleshare         0.7.5\n",
      "pkg_resources       NA\n",
      "prometheus_client   NA\n",
      "prompt_toolkit      3.0.16\n",
      "psutil              5.8.0\n",
      "ptyprocess          0.7.0\n",
      "pvectorc            NA\n",
      "pygments            2.8.0\n",
      "pylab               NA\n",
      "pymongo             3.11.3\n",
      "pyparsing           2.4.7\n",
      "pyrsistent          NA\n",
      "pytoml              NA\n",
      "pytz                2021.1\n",
      "requests            2.25.1\n",
      "requests_cache      0.6.2\n",
      "scanpy              1.8.1\n",
      "scipy               1.7.3\n",
      "seaborn             0.11.1\n",
      "send2trash          NA\n",
      "setuptools_scm      NA\n",
      "simplejson          3.17.6\n",
      "sinfo               0.3.1\n",
      "six                 1.15.0\n",
      "sklearn             0.22\n",
      "sksparse            0.4.4\n",
      "sniffio             1.2.0\n",
      "socks               1.7.1\n",
      "soupsieve           2.2\n",
      "sparse              0.12.0\n",
      "sphinxcontrib       NA\n",
      "statsmodels         0.12.2\n",
      "storemagic          NA\n",
      "tables              3.6.1\n",
      "terminado           0.9.2\n",
      "texttable           1.6.3\n",
      "tlz                 0.11.1\n",
      "toolz               0.11.1\n",
      "tornado             6.1\n",
      "traitlets           5.0.5\n",
      "typing_extensions   NA\n",
      "url_normalize       1.4.3\n",
      "urllib3             1.26.3\n",
      "wcwidth             0.2.5\n",
      "websocket           0.59.0\n",
      "wrapt               1.12.1\n",
      "yaml                5.4.1\n",
      "zarr                2.6.1\n",
      "zmq                 22.0.3\n",
      "zope                NA\n",
      "-----\n",
      "IPython             7.20.0\n",
      "jupyter_client      6.1.11\n",
      "jupyter_core        4.7.1\n",
      "jupyterlab          3.0.15\n",
      "notebook            6.2.0\n",
      "-----\n",
      "Python 3.8.5 (default, Sep  4 2020, 07:30:14) [GCC 7.3.0]\n",
      "Linux-3.10.0-957.el7.x86_64-x86_64-with-glibc2.10\n",
      "80 logical CPU cores, x86_64\n",
      "-----\n",
      "Session information updated at 2022-04-08 17:05\n",
      "\n"
     ]
    }
   ],
   "source": [
    "sc.settings.verbosity = 3             # verbosity: errors (0), warnings (1), info (2), hints (3)\n",
    "sc.logging.print_versions()\n",
    "sc.settings.set_figure_params(dpi=150, dpi_save= 300, fontsize=10, frameon=True, figsize=(3, 3), transparent=False, format=\"pdf\")"
   ]
  },
  {
   "cell_type": "code",
   "execution_count": 90,
   "id": "authorized-decade",
   "metadata": {},
   "outputs": [],
   "source": [
    "heart_infection_sc = sc.read_h5ad(filename=\"./../../../pyobjs_github/heart_infection_sc_new.h5ad\")"
   ]
  },
  {
   "cell_type": "code",
   "execution_count": 91,
   "id": "unlikely-mount",
   "metadata": {},
   "outputs": [
    {
     "name": "stdout",
     "output_type": "stream",
     "text": [
      "reading ./../../../scData/sc_xGen22/Heart_T1L_D4PI_xGen/outs/filtered_feature_bc_matrix.h5\n"
     ]
    },
    {
     "name": "stderr",
     "output_type": "stream",
     "text": [
      "Variable names are not unique. To make them unique, call `.var_names_make_unique`.\n"
     ]
    },
    {
     "name": "stdout",
     "output_type": "stream",
     "text": [
      " (0:00:00)\n"
     ]
    },
    {
     "name": "stderr",
     "output_type": "stream",
     "text": [
      "Variable names are not unique. To make them unique, call `.var_names_make_unique`.\n"
     ]
    },
    {
     "name": "stdout",
     "output_type": "stream",
     "text": [
      "reading ./../../../scData/sc_xGen22/Heart_T1L_D7PI_xGen/outs/filtered_feature_bc_matrix.h5\n"
     ]
    },
    {
     "name": "stderr",
     "output_type": "stream",
     "text": [
      "Variable names are not unique. To make them unique, call `.var_names_make_unique`.\n"
     ]
    },
    {
     "name": "stdout",
     "output_type": "stream",
     "text": [
      " (0:00:00)\n"
     ]
    },
    {
     "name": "stderr",
     "output_type": "stream",
     "text": [
      "Variable names are not unique. To make them unique, call `.var_names_make_unique`.\n"
     ]
    },
    {
     "name": "stdout",
     "output_type": "stream",
     "text": [
      "reading ./../../../scData/sc_xGen22/Heart_T1L_D10PI_xGen//outs/filtered_feature_bc_matrix.h5\n"
     ]
    },
    {
     "name": "stderr",
     "output_type": "stream",
     "text": [
      "Variable names are not unique. To make them unique, call `.var_names_make_unique`.\n"
     ]
    },
    {
     "name": "stdout",
     "output_type": "stream",
     "text": [
      " (0:00:00)\n"
     ]
    },
    {
     "name": "stderr",
     "output_type": "stream",
     "text": [
      "Variable names are not unique. To make them unique, call `.var_names_make_unique`.\n"
     ]
    },
    {
     "name": "stdout",
     "output_type": "stream",
     "text": [
      "reading ./../../../scData/sc_xGen22/Heart_K287T_D4PI_xGen/outs/filtered_feature_bc_matrix.h5\n"
     ]
    },
    {
     "name": "stderr",
     "output_type": "stream",
     "text": [
      "Variable names are not unique. To make them unique, call `.var_names_make_unique`.\n"
     ]
    },
    {
     "name": "stdout",
     "output_type": "stream",
     "text": [
      " (0:00:00)\n"
     ]
    },
    {
     "name": "stderr",
     "output_type": "stream",
     "text": [
      "Variable names are not unique. To make them unique, call `.var_names_make_unique`.\n"
     ]
    },
    {
     "name": "stdout",
     "output_type": "stream",
     "text": [
      "reading ./../../../scData/sc_xGen22/Heart_K287T_D7PI_xGen/outs/filtered_feature_bc_matrix.h5\n"
     ]
    },
    {
     "name": "stderr",
     "output_type": "stream",
     "text": [
      "Variable names are not unique. To make them unique, call `.var_names_make_unique`.\n"
     ]
    },
    {
     "name": "stdout",
     "output_type": "stream",
     "text": [
      " (0:00:00)\n"
     ]
    },
    {
     "name": "stderr",
     "output_type": "stream",
     "text": [
      "Variable names are not unique. To make them unique, call `.var_names_make_unique`.\n"
     ]
    },
    {
     "name": "stdout",
     "output_type": "stream",
     "text": [
      "reading ./../../../scData/sc_xGen22/Heart_K287T_D10PI_xGen/outs/filtered_feature_bc_matrix.h5\n"
     ]
    },
    {
     "name": "stderr",
     "output_type": "stream",
     "text": [
      "Variable names are not unique. To make them unique, call `.var_names_make_unique`.\n"
     ]
    },
    {
     "name": "stdout",
     "output_type": "stream",
     "text": [
      " (0:00:00)\n"
     ]
    },
    {
     "name": "stderr",
     "output_type": "stream",
     "text": [
      "Variable names are not unique. To make them unique, call `.var_names_make_unique`.\n"
     ]
    }
   ],
   "source": [
    "T1L_WT_Heart_D4PI_xGen3 = sc.read_10x_h5('./../../../scData/sc_xGen22/Heart_T1L_D4PI_xGen/outs/filtered_feature_bc_matrix.h5')\n",
    "T1L_WT_Heart_D7PI_xGen3 = sc.read_10x_h5('./../../../scData/sc_xGen22/Heart_T1L_D7PI_xGen/outs/filtered_feature_bc_matrix.h5')\n",
    "T1L_WT_Heart_D10PI_xGen3 = sc.read_10x_h5('./../../../scData/sc_xGen22/Heart_T1L_D10PI_xGen//outs/filtered_feature_bc_matrix.h5')\n",
    "T1L_K287T_Heart_D4PI_xGen3 = sc.read_10x_h5('./../../../scData/sc_xGen22/Heart_K287T_D4PI_xGen/outs/filtered_feature_bc_matrix.h5')\n",
    "T1L_K287T_Heart_D7PI_xGen3 = sc.read_10x_h5('./../../../scData/sc_xGen22/Heart_K287T_D7PI_xGen/outs/filtered_feature_bc_matrix.h5')\n",
    "T1L_K287T_Heart_D10PI_xGen3 = sc.read_10x_h5('./../../../scData/sc_xGen22/Heart_K287T_D10PI_xGen/outs/filtered_feature_bc_matrix.h5')\n",
    "\n",
    "T1L_WT_Heart_D4PI_xGen3.var_names_make_unique()\n",
    "T1L_WT_Heart_D7PI_xGen3.var_names_make_unique()\n",
    "T1L_WT_Heart_D10PI_xGen3.var_names_make_unique()\n",
    "T1L_K287T_Heart_D4PI_xGen3.var_names_make_unique()\n",
    "T1L_K287T_Heart_D7PI_xGen3.var_names_make_unique()\n",
    "T1L_K287T_Heart_D10PI_xGen3.var_names_make_unique()\n",
    "\n",
    "samples_xGen3 = [\"Heart_T1L-WT_D4PI\", \"Heart_T1L-K287T_D4PI\", \"Heart_T1L-WT_D7PI\", \"Heart_T1L-K287T_D7PI\", \"Heart_T1L-WT_D10PI\", \"Heart_T1L-K287T_D10PI\"]\n",
    "\n",
    "heart_infection_sc_xGen3_subset = T1L_WT_Heart_D4PI_xGen3.concatenate(T1L_K287T_Heart_D4PI_xGen3, \n",
    "                                                    T1L_WT_Heart_D7PI_xGen3,\n",
    "                                                    T1L_K287T_Heart_D7PI_xGen3, \n",
    "                                                    T1L_WT_Heart_D10PI_xGen3,\n",
    "                                                    T1L_K287T_Heart_D10PI_xGen3,\n",
    "                                                    batch_key= \"sample\", batch_categories=samples_xGen3,\n",
    "                                                    index_unique=\"-\")"
   ]
  },
  {
   "cell_type": "code",
   "execution_count": 92,
   "id": "agricultural-appliance",
   "metadata": {},
   "outputs": [
    {
     "name": "stdout",
     "output_type": "stream",
     "text": [
      "['ReoT1L_T1LReoS1', 'ReoT1L_T1LReoS2', 'ReoT1L_T1LReoS3', 'ReoT1L_T1LReoS4', 'ReoT1L_T1LReoM1', 'ReoT1L_T1LReoM2', 'ReoT1L_T1LReoM3', 'ReoT1L_T1LReoL1', 'ReoT1L_T1LReoL2', 'ReoT1L_T1LReoL3']\n",
      "(31684, 32)\n",
      "(31684, 42)\n"
     ]
    },
    {
     "name": "stderr",
     "output_type": "stream",
     "text": [
      "/home/mm2937/miniconda3/envs/python385/lib/python3.8/site-packages/pandas/core/arrays/categorical.py:2631: FutureWarning: The `inplace` parameter in pandas.Categorical.remove_unused_categories is deprecated and will be removed in a future version.\n",
      "  res = method(*args, **kwargs)\n",
      "<ipython-input-92-a79aa0b117c7>:15: SettingWithCopyWarning: \n",
      "A value is trying to be set on a copy of a slice from a DataFrame\n",
      "\n",
      "See the caveats in the documentation: https://pandas.pydata.org/pandas-docs/stable/user_guide/indexing.html#returning-a-view-versus-a-copy\n",
      "  heart_infection_sc.obs['total_viral_NA'][heart_infection_sc.obs['total_viral_NA']==0] = np.nan\n",
      "<ipython-input-92-a79aa0b117c7>:16: SettingWithCopyWarning: \n",
      "A value is trying to be set on a copy of a slice from a DataFrame\n",
      "\n",
      "See the caveats in the documentation: https://pandas.pydata.org/pandas-docs/stable/user_guide/indexing.html#returning-a-view-versus-a-copy\n",
      "  heart_infection_sc.obs['total_viral_xGen3_NA'][heart_infection_sc.obs['total_viral_xGen3_NA']==0] = np.nan\n"
     ]
    }
   ],
   "source": [
    "reoviral_genes = [name for name in heart_infection_sc_xGen3_subset.var_names if name.startswith('Reo')]\n",
    "print(reoviral_genes)\n",
    "\n",
    "viral_expression = heart_infection_sc_xGen3_subset[:,reoviral_genes].to_df()\n",
    "viral_expression.columns = [x.split(\"_\")[1] for x in viral_expression.columns]\n",
    "viral_expression.columns = [name + \"_xGen3\" for name in viral_expression.columns]\n",
    "\n",
    "print(heart_infection_sc.obs.shape)\n",
    "heart_infection_sc.obs = heart_infection_sc.obs.join(viral_expression)\n",
    "print(heart_infection_sc.obs.shape)\n",
    "heart_infection_sc.obs['total_viral_xGen3'] = viral_expression.sum(axis=1).astype(int)\n",
    "\n",
    "heart_infection_sc.obs['total_viral_NA'] = heart_infection_sc.obs['total_viral']\n",
    "heart_infection_sc.obs['total_viral_xGen3_NA'] = heart_infection_sc.obs['total_viral_xGen3']\n",
    "heart_infection_sc.obs['total_viral_NA'][heart_infection_sc.obs['total_viral_NA']==0] = np.nan\n",
    "heart_infection_sc.obs['total_viral_xGen3_NA'][heart_infection_sc.obs['total_viral_xGen3_NA']==0] = np.nan\n",
    "heart_infection_sc.obs['pct_viral_xGen3'] = ((heart_infection_sc.obs['total_viral_xGen3_NA']) / (heart_infection_sc.obs['total_viral_xGen3_NA'] + heart_infection_sc.obs['total_counts'])) * 100"
   ]
  },
  {
   "cell_type": "code",
   "execution_count": 93,
   "id": "leading-lodge",
   "metadata": {
    "scrolled": true
   },
   "outputs": [
    {
     "name": "stderr",
     "output_type": "stream",
     "text": [
      "<ipython-input-93-2335086ee4e1>:2: SettingWithCopyWarning: \n",
      "A value is trying to be set on a copy of a slice from a DataFrame\n",
      "\n",
      "See the caveats in the documentation: https://pandas.pydata.org/pandas-docs/stable/user_guide/indexing.html#returning-a-view-versus-a-copy\n",
      "  heart_infection_sc.obs[\"total_viral_xGen3_thresh2\"][(heart_infection_sc.obs[\"total_viral_xGen3_thresh2\"] < 2)] = np.NaN\n"
     ]
    }
   ],
   "source": [
    "heart_infection_sc.obs[\"total_viral_xGen3_thresh2\"] = heart_infection_sc.obs[\"total_viral_xGen3_NA\"]\n",
    "heart_infection_sc.obs[\"total_viral_xGen3_thresh2\"][(heart_infection_sc.obs[\"total_viral_xGen3_thresh2\"] < 2)] = np.NaN"
   ]
  },
  {
   "cell_type": "code",
   "execution_count": 94,
   "id": "comfortable-original",
   "metadata": {
    "scrolled": true
   },
   "outputs": [
    {
     "name": "stdout",
     "output_type": "stream",
     "text": [
      "WARNING: saving figure to file figures/umapviral_trop_umap_xgen_filtered.pdf\n"
     ]
    },
    {
     "data": {
      "image/png": "[encoded data removed]",
      "text/plain": [
       "<Figure size 268.8x112 with 4 Axes>"
      ]
     },
     "metadata": {
      "image/png": {
       "height": 117,
       "width": 245
      }
     },
     "output_type": "display_data"
    }
   ],
   "source": [
    "sc.settings.set_figure_params(dpi=80, dpi_save= 300, fontsize=6, facecolor='white', frameon=True, figsize=(1.4,1.4), transparent=True, format=\"pdf\")\n",
    "sc.pl.umap(heart_infection_sc, color=[\"total_viral_NA\",  \"total_viral_xGen3_thresh2\"], size = 6, ncols=2, palette='viridis_r', add_outline=False, frameon=False, wspace=0.2, save=\"viral_trop_umap_xgen_filtered.pdf\")"
   ]
  },
  {
   "cell_type": "code",
   "execution_count": 95,
   "id": "touched-spelling",
   "metadata": {},
   "outputs": [],
   "source": [
    "# heart_infection_sc.write_h5ad(filename=\"./../../../pyobjs_github/heart_infection_sc_with_xGen_filtered.h5ad\")"
   ]
  },
  {
   "cell_type": "code",
   "execution_count": 103,
   "id": "utility-flash",
   "metadata": {},
   "outputs": [
    {
     "data": {
      "text/plain": [
       "AnnData object with n_obs × n_vars = 31684 × 2247\n",
       "    obs: 'sample', 'T1LReoS1', 'T1LReoS2', 'T1LReoS3', 'T1LReoS4', 'T1LReoM1', 'T1LReoM2', 'T1LReoM3', 'T1LReoL1', 'T1LReoL2', 'T1LReoL3', 'n_counts', 'n_genes_by_counts', 'total_counts', 'total_counts_mt', 'pct_counts_mt', 'total_viral', 'pct_viral', 'stage', 'state', 'condition', 'n_genes', 'S_score', 'G2M_score', 'phase', 'umap_density_condition', 'leiden_0.5', 'leiden_0.3', 'leiden_0.1', 'celltypes_leiden_0.3', 'celltypes_leiden_0.5', 'celltype_groups', 'T1LReoS1_xGen3', 'T1LReoS2_xGen3', 'T1LReoS3_xGen3', 'T1LReoS4_xGen3', 'T1LReoM1_xGen3', 'T1LReoM2_xGen3', 'T1LReoM3_xGen3', 'T1LReoL1_xGen3', 'T1LReoL2_xGen3', 'T1LReoL3_xGen3', 'total_viral_xGen3', 'total_viral_NA', 'total_viral_xGen3_NA', 'pct_viral_xGen3', 'total_viral_xGen3_thresh2'\n",
       "    var: 'gene_ids', 'feature_types', 'genome', 'n_cells', 'mt', 'n_cells_by_counts', 'mean_counts', 'pct_dropout_by_counts', 'total_counts', 'highly_variable', 'means', 'dispersions', 'dispersions_norm', 'mean', 'std'\n",
       "    uns: 'celltype_groups_colors', 'celltypes_leiden_0.5_colors', 'condition_colors', 'hvg', 'leiden', 'leiden_0.3_colors', 'leiden_0.5_colors', 'neighbors', 'pca', 'phase_colors', 'rank_genes_groups_celltypes_leiden_0.5', 'rank_genes_groups_leiden_0.3', 'rank_genes_groups_leiden_0.5', 'umap', 'umap_density_condition_params'\n",
       "    obsm: 'X_pca', 'X_umap'\n",
       "    varm: 'PCs'\n",
       "    obsp: 'connectivities', 'distances'"
      ]
     },
     "execution_count": 103,
     "metadata": {},
     "output_type": "execute_result"
    }
   ],
   "source": [
    "heart_infection_sc = sc.read_h5ad(filename=\"./../../../pyobjs_github/heart_infection_sc_with_xGen_filtered.h5ad\")\n",
    "heart_infection_sc"
   ]
  },
  {
   "cell_type": "code",
   "execution_count": 104,
   "id": "optimum-insured",
   "metadata": {},
   "outputs": [],
   "source": [
    "heart_infection_sc = heart_infection_sc[heart_infection_sc.obs[\"condition\"].isin([\"T1L-WT_D4PI\", \"T1L-WT_D7PI\", \"T1L-WT_D10PI\"])]\n",
    "heart_infection_sc = heart_infection_sc[~heart_infection_sc.obs[\"celltype_groups\"].isin([\"\"])]"
   ]
  },
  {
   "cell_type": "code",
   "execution_count": 130,
   "id": "adaptive-sunrise",
   "metadata": {},
   "outputs": [
    {
     "name": "stderr",
     "output_type": "stream",
     "text": [
      "/home/mm2937/miniconda3/envs/python385/lib/python3.8/site-packages/pandas/core/arrays/categorical.py:2631: FutureWarning: The `inplace` parameter in pandas.Categorical.remove_unused_categories is deprecated and will be removed in a future version.\n",
      "  res = method(*args, **kwargs)\n"
     ]
    },
    {
     "data": {
      "text/html": [
       "<div>\n",
       "<style scoped>\n",
       "    .dataframe tbody tr th:only-of-type {\n",
       "        vertical-align: middle;\n",
       "    }\n",
       "\n",
       "    .dataframe tbody tr th {\n",
       "        vertical-align: top;\n",
       "    }\n",
       "\n",
       "    .dataframe thead tr th {\n",
       "        text-align: left;\n",
       "    }\n",
       "\n",
       "    .dataframe thead tr:last-of-type th {\n",
       "        text-align: right;\n",
       "    }\n",
       "</style>\n",
       "<table border=\"1\" class=\"dataframe\">\n",
       "  <thead>\n",
       "    <tr>\n",
       "      <th></th>\n",
       "      <th colspan=\"10\" halign=\"left\">mean_viral_exp</th>\n",
       "      <th>...</th>\n",
       "      <th colspan=\"10\" halign=\"left\">pct_cells</th>\n",
       "    </tr>\n",
       "    <tr>\n",
       "      <th>celltype_groups</th>\n",
       "      <th>Cardiomyocytes</th>\n",
       "      <th>Fibroblasts</th>\n",
       "      <th>Smooth muscle cells</th>\n",
       "      <th>Pericytes</th>\n",
       "      <th>Endocardial cells</th>\n",
       "      <th>Endothelial cells</th>\n",
       "      <th>Pericardial cells</th>\n",
       "      <th>Schwann cells</th>\n",
       "      <th>Dendritic cells</th>\n",
       "      <th>Macrophages</th>\n",
       "      <th>...</th>\n",
       "      <th>Endothelial cells</th>\n",
       "      <th>Pericardial cells</th>\n",
       "      <th>Schwann cells</th>\n",
       "      <th>Dendritic cells</th>\n",
       "      <th>Macrophages</th>\n",
       "      <th>B cells</th>\n",
       "      <th>NK cells</th>\n",
       "      <th>T cells</th>\n",
       "      <th>Neutrophils</th>\n",
       "      <th>Erythroblasts</th>\n",
       "    </tr>\n",
       "    <tr>\n",
       "      <th>condition</th>\n",
       "      <th></th>\n",
       "      <th></th>\n",
       "      <th></th>\n",
       "      <th></th>\n",
       "      <th></th>\n",
       "      <th></th>\n",
       "      <th></th>\n",
       "      <th></th>\n",
       "      <th></th>\n",
       "      <th></th>\n",
       "      <th></th>\n",
       "      <th></th>\n",
       "      <th></th>\n",
       "      <th></th>\n",
       "      <th></th>\n",
       "      <th></th>\n",
       "      <th></th>\n",
       "      <th></th>\n",
       "      <th></th>\n",
       "      <th></th>\n",
       "      <th></th>\n",
       "    </tr>\n",
       "  </thead>\n",
       "  <tbody>\n",
       "    <tr>\n",
       "      <th>T1L-WT_D4PI</th>\n",
       "      <td>6.666667</td>\n",
       "      <td>3.166667</td>\n",
       "      <td>2.0</td>\n",
       "      <td>2.000000</td>\n",
       "      <td>83.1</td>\n",
       "      <td>6.544444</td>\n",
       "      <td>NaN</td>\n",
       "      <td>NaN</td>\n",
       "      <td>2.500000</td>\n",
       "      <td>4.454545</td>\n",
       "      <td>...</td>\n",
       "      <td>3.79</td>\n",
       "      <td>NaN</td>\n",
       "      <td>NaN</td>\n",
       "      <td>1.40</td>\n",
       "      <td>2.96</td>\n",
       "      <td>NaN</td>\n",
       "      <td>NaN</td>\n",
       "      <td>1.96</td>\n",
       "      <td>NaN</td>\n",
       "      <td>1.19</td>\n",
       "    </tr>\n",
       "    <tr>\n",
       "      <th>T1L-WT_D7PI</th>\n",
       "      <td>2.000000</td>\n",
       "      <td>2.214286</td>\n",
       "      <td>2.0</td>\n",
       "      <td>16.333333</td>\n",
       "      <td>6.3</td>\n",
       "      <td>2.454545</td>\n",
       "      <td>3.0</td>\n",
       "      <td>NaN</td>\n",
       "      <td>8.352941</td>\n",
       "      <td>2.000000</td>\n",
       "      <td>...</td>\n",
       "      <td>6.40</td>\n",
       "      <td>8.57</td>\n",
       "      <td>NaN</td>\n",
       "      <td>4.62</td>\n",
       "      <td>2.08</td>\n",
       "      <td>1.64</td>\n",
       "      <td>3.49</td>\n",
       "      <td>4.29</td>\n",
       "      <td>6.11</td>\n",
       "      <td>NaN</td>\n",
       "    </tr>\n",
       "    <tr>\n",
       "      <th>T1L-WT_D10PI</th>\n",
       "      <td>NaN</td>\n",
       "      <td>NaN</td>\n",
       "      <td>NaN</td>\n",
       "      <td>NaN</td>\n",
       "      <td>NaN</td>\n",
       "      <td>NaN</td>\n",
       "      <td>NaN</td>\n",
       "      <td>NaN</td>\n",
       "      <td>20.000000</td>\n",
       "      <td>NaN</td>\n",
       "      <td>...</td>\n",
       "      <td>NaN</td>\n",
       "      <td>NaN</td>\n",
       "      <td>NaN</td>\n",
       "      <td>0.49</td>\n",
       "      <td>NaN</td>\n",
       "      <td>NaN</td>\n",
       "      <td>NaN</td>\n",
       "      <td>0.15</td>\n",
       "      <td>NaN</td>\n",
       "      <td>NaN</td>\n",
       "    </tr>\n",
       "  </tbody>\n",
       "</table>\n",
       "<p>3 rows × 60 columns</p>\n",
       "</div>"
      ],
      "text/plain": [
       "                mean_viral_exp                                             \\\n",
       "celltype_groups Cardiomyocytes Fibroblasts Smooth muscle cells  Pericytes   \n",
       "condition                                                                   \n",
       "T1L-WT_D4PI           6.666667    3.166667                 2.0   2.000000   \n",
       "T1L-WT_D7PI           2.000000    2.214286                 2.0  16.333333   \n",
       "T1L-WT_D10PI               NaN         NaN                 NaN        NaN   \n",
       "\n",
       "                                                                       \\\n",
       "celltype_groups Endocardial cells Endothelial cells Pericardial cells   \n",
       "condition                                                               \n",
       "T1L-WT_D4PI                  83.1          6.544444               NaN   \n",
       "T1L-WT_D7PI                   6.3          2.454545               3.0   \n",
       "T1L-WT_D10PI                  NaN               NaN               NaN   \n",
       "\n",
       "                                                           ...  \\\n",
       "celltype_groups Schwann cells Dendritic cells Macrophages  ...   \n",
       "condition                                                  ...   \n",
       "T1L-WT_D4PI               NaN        2.500000    4.454545  ...   \n",
       "T1L-WT_D7PI               NaN        8.352941    2.000000  ...   \n",
       "T1L-WT_D10PI              NaN       20.000000         NaN  ...   \n",
       "\n",
       "                        pct_cells                                  \\\n",
       "celltype_groups Endothelial cells Pericardial cells Schwann cells   \n",
       "condition                                                           \n",
       "T1L-WT_D4PI                  3.79               NaN           NaN   \n",
       "T1L-WT_D7PI                  6.40              8.57           NaN   \n",
       "T1L-WT_D10PI                  NaN               NaN           NaN   \n",
       "\n",
       "                                                                      \\\n",
       "celltype_groups Dendritic cells Macrophages B cells NK cells T cells   \n",
       "condition                                                              \n",
       "T1L-WT_D4PI                1.40        2.96     NaN      NaN    1.96   \n",
       "T1L-WT_D7PI                4.62        2.08    1.64     3.49    4.29   \n",
       "T1L-WT_D10PI               0.49         NaN     NaN      NaN    0.15   \n",
       "\n",
       "                                           \n",
       "celltype_groups Neutrophils Erythroblasts  \n",
       "condition                                  \n",
       "T1L-WT_D4PI             NaN          1.19  \n",
       "T1L-WT_D7PI            6.11           NaN  \n",
       "T1L-WT_D10PI            NaN           NaN  \n",
       "\n",
       "[3 rows x 60 columns]"
      ]
     },
     "execution_count": 130,
     "metadata": {},
     "output_type": "execute_result"
    }
   ],
   "source": [
    "heart_infection_sc.obs[\"viral_exp\"] = heart_infection_sc.obs[\"total_viral_xGen3_thresh2\"]\n",
    "mean_viral_exp = heart_infection_sc.obs[[\"condition\", \"celltype_groups\", \"viral_exp\"]].groupby([\"condition\", \"celltype_groups\"]).mean()[\"viral_exp\"]\n",
    "celltype_counts = heart_infection_sc.obs.value_counts(subset=[\"condition\", \"celltype_groups\"], sort=False)\n",
    "infected_cells_only = heart_infection_sc[heart_infection_sc.obs[\"viral_exp\"] >= 0, :]\n",
    "infected_celltypes_counts = infected_cells_only.obs.value_counts(subset=[\"condition\", \"celltype_groups\"], sort=False)\n",
    "count_data = pd.DataFrame({'mean_viral_exp': mean_viral_exp, 'total_counts': celltype_counts, 'infected_counts': infected_celltypes_counts})\n",
    "count_data[\"pct_cells\"] = round(((count_data[\"infected_counts\"]/count_data[\"total_counts\"]) * 100), 2)\n",
    "count_data = count_data.iloc[count_data.index.get_level_values('condition').isin([\"T1L-WT_D4PI\", \"T1L-WT_D7PI\", \"T1L-WT_D10PI\"])]\n",
    "celltype_counts = count_data.unstack(\"celltype_groups\")\n",
    "celltype_counts = celltype_counts.reindex([\"T1L-WT_D4PI\", \"T1L-WT_D7PI\", \"T1L-WT_D10PI\"])\n",
    "celltype_counts =  celltype_counts.reindex(heart_infection_sc.obs[\"celltype_groups\"].cat.categories, level=1, axis= 1)\n",
    "celltype_counts"
   ]
  },
  {
   "cell_type": "code",
   "execution_count": 106,
   "id": "patent-appreciation",
   "metadata": {},
   "outputs": [],
   "source": [
    "celltype_counts[\"mean_viral_exp\"].to_csv(\"./../../../csvs_github/heart_mean_viral_exp.csv\")\n",
    "celltype_counts[\"pct_cells\"].to_csv(\"./../../../csvs_github/heart_pct_cells.csv\")"
   ]
  },
  {
   "cell_type": "code",
   "execution_count": 139,
   "id": "infinite-walnut",
   "metadata": {},
   "outputs": [
    {
     "data": {
      "image/png": "[encoded data removed]",
      "text/plain": [
       "<Figure size 320x56 with 2 Axes>"
      ]
     },
     "metadata": {
      "image/png": {
       "height": 119,
       "width": 367
      }
     },
     "output_type": "display_data"
    }
   ],
   "source": [
    "import numpy as np\n",
    "import matplotlib.pyplot as plt\n",
    "from matplotlib.collections import PatchCollection\n",
    "from matplotlib.patches import Circle\n",
    "plt.rcParams['axes.axisbelow'] = True\n",
    "\n",
    "N = celltype_counts[\"pct_cells\"].shape[0]\n",
    "M = celltype_counts[\"pct_cells\"].shape[1]\n",
    "ylabels = celltype_counts[\"pct_cells\"].index\n",
    "xlabels = celltype_counts[\"pct_cells\"].columns\n",
    "\n",
    "x, y = np.meshgrid(np.arange(M), np.arange(N))\n",
    "s = celltype_counts[\"pct_cells\"].to_numpy()\n",
    "c = celltype_counts[\"mean_viral_exp\"].to_numpy()\n",
    "# s = celltype_counts[\"pct_cells\"].fillna(0).to_numpy()\n",
    "# c = celltype_counts[\"mean_viral_exp\"].fillna(0).to_numpy()\n",
    "# print(c.flatten())\n",
    "# print(s.flatten())\n",
    "\n",
    "fig, ax = plt.subplots(figsize=(4.0,0.7))\n",
    "\n",
    "R = (s/100.0)*4\n",
    "circles = [plt.Circle((j,i), radius=r) for r, j, i in zip(R.flat, x.flat, y.flat)]\n",
    "col = PatchCollection(circles, array=c.flatten(), cmap=\"cividis_r\")\n",
    "import matplotlib.colors as colors\n",
    "col.norm=colors.LogNorm()\n",
    "col.set_clim([np.nanmin(c), np.nanmax(c)])\n",
    "\n",
    "ax.add_collection(col)\n",
    "ax.set(xticks=np.arange(M), yticks=np.arange(N),\n",
    "       xticklabels=xlabels, yticklabels=ylabels)\n",
    "ax.set_xticks(np.arange(M+1)-0.5, minor=True)\n",
    "ax.set_yticks(np.arange(N+1)-0.5, minor=True)\n",
    "ax.set_xticklabels(ax.get_xticklabels(), rotation=45, horizontalalignment='right')\n",
    "fig.colorbar(col)\n",
    "\n",
    "from matplotlib.lines import Line2D\n",
    "line1 = Line2D(range(1), range(1), color=\"white\", marker='o', markersize=5, markerfacecolor=\"grey\")\n",
    "line2 = Line2D(range(1), range(1), color=\"white\", marker='o', markersize=10, markerfacecolor=\"grey\")\n",
    "line3 = Line2D(range(1), range(1), color=\"white\", marker='o', markersize=15, markerfacecolor=\"grey\")\n",
    "plt.legend((line1,line2,line3),('4%','8%', \"12%\"),numpoints=1, bbox_to_anchor = (1.5,1.0))\n",
    "\n",
    "# plt.show()\n",
    "plt.savefig(\"figures/viral_exp_dotplot_filtered.pdf\", facecolor='w', edgecolor='w',\n",
    "        orientation='potrait', format=\"pdf\",\n",
    "        transparent=True, metadata=None)"
   ]
  },
  {
   "cell_type": "code",
   "execution_count": null,
   "id": "headed-grade",
   "metadata": {},
   "outputs": [],
   "source": [
    "## This part of the script is used to estimate the xGen viral UMI filtering threshold for xGen data"
   ]
  },
  {
   "cell_type": "code",
   "execution_count": 22,
   "id": "opponent-notion",
   "metadata": {},
   "outputs": [
    {
     "name": "stdout",
     "output_type": "stream",
     "text": [
      "reading ./../../../scData/Heart_Mock_D4PI/outs/raw_feature_bc_matrix.h5\n"
     ]
    },
    {
     "name": "stderr",
     "output_type": "stream",
     "text": [
      "Variable names are not unique. To make them unique, call `.var_names_make_unique`.\n"
     ]
    },
    {
     "name": "stdout",
     "output_type": "stream",
     "text": [
      " (0:00:01)\n"
     ]
    },
    {
     "name": "stderr",
     "output_type": "stream",
     "text": [
      "Variable names are not unique. To make them unique, call `.var_names_make_unique`.\n"
     ]
    },
    {
     "name": "stdout",
     "output_type": "stream",
     "text": [
      "reading ./../../../scData/Heart_T1L_D4PI/outs/raw_feature_bc_matrix.h5\n"
     ]
    },
    {
     "name": "stderr",
     "output_type": "stream",
     "text": [
      "Variable names are not unique. To make them unique, call `.var_names_make_unique`.\n"
     ]
    },
    {
     "name": "stdout",
     "output_type": "stream",
     "text": [
      " (0:00:01)\n"
     ]
    },
    {
     "name": "stderr",
     "output_type": "stream",
     "text": [
      "Variable names are not unique. To make them unique, call `.var_names_make_unique`.\n"
     ]
    },
    {
     "name": "stdout",
     "output_type": "stream",
     "text": [
      "reading ./../../../scData/Heart_Mock_D7PI/outs/raw_feature_bc_matrix.h5\n"
     ]
    },
    {
     "name": "stderr",
     "output_type": "stream",
     "text": [
      "Variable names are not unique. To make them unique, call `.var_names_make_unique`.\n"
     ]
    },
    {
     "name": "stdout",
     "output_type": "stream",
     "text": [
      " (0:00:01)\n"
     ]
    },
    {
     "name": "stderr",
     "output_type": "stream",
     "text": [
      "Variable names are not unique. To make them unique, call `.var_names_make_unique`.\n"
     ]
    },
    {
     "name": "stdout",
     "output_type": "stream",
     "text": [
      "reading ./../../../scData/Heart_T1L_D7PI/outs/raw_feature_bc_matrix.h5\n"
     ]
    },
    {
     "name": "stderr",
     "output_type": "stream",
     "text": [
      "Variable names are not unique. To make them unique, call `.var_names_make_unique`.\n"
     ]
    },
    {
     "name": "stdout",
     "output_type": "stream",
     "text": [
      " (0:00:01)\n"
     ]
    },
    {
     "name": "stderr",
     "output_type": "stream",
     "text": [
      "Variable names are not unique. To make them unique, call `.var_names_make_unique`.\n"
     ]
    },
    {
     "name": "stdout",
     "output_type": "stream",
     "text": [
      "reading ./../../../scData/Heart_Mock_D10PI/outs/raw_feature_bc_matrix.h5\n"
     ]
    },
    {
     "name": "stderr",
     "output_type": "stream",
     "text": [
      "Variable names are not unique. To make them unique, call `.var_names_make_unique`.\n"
     ]
    },
    {
     "name": "stdout",
     "output_type": "stream",
     "text": [
      " (0:00:02)\n"
     ]
    },
    {
     "name": "stderr",
     "output_type": "stream",
     "text": [
      "Variable names are not unique. To make them unique, call `.var_names_make_unique`.\n"
     ]
    },
    {
     "name": "stdout",
     "output_type": "stream",
     "text": [
      "reading ./../../../scData/Heart_T1L_D10PI/outs/raw_feature_bc_matrix.h5\n"
     ]
    },
    {
     "name": "stderr",
     "output_type": "stream",
     "text": [
      "Variable names are not unique. To make them unique, call `.var_names_make_unique`.\n"
     ]
    },
    {
     "name": "stdout",
     "output_type": "stream",
     "text": [
      " (0:00:02)\n"
     ]
    },
    {
     "name": "stderr",
     "output_type": "stream",
     "text": [
      "Variable names are not unique. To make them unique, call `.var_names_make_unique`.\n"
     ]
    }
   ],
   "source": [
    "Mock_Heart_D4PI_sc = sc.read_10x_h5('./../../../scData/Heart_Mock_D4PI/outs/raw_feature_bc_matrix.h5')\n",
    "T1L_WT_Heart_D4PI_sc = sc.read_10x_h5('./../../../scData/Heart_T1L_D4PI/outs/raw_feature_bc_matrix.h5')\n",
    "Mock_Heart_D7PI_sc = sc.read_10x_h5('./../../../scData/Heart_Mock_D7PI/outs/raw_feature_bc_matrix.h5')\n",
    "T1L_WT_Heart_D7PI_sc = sc.read_10x_h5('./../../../scData/Heart_T1L_D7PI/outs/raw_feature_bc_matrix.h5')\n",
    "Mock_Heart_D10PI_sc = sc.read_10x_h5('./../../../scData/Heart_Mock_D10PI/outs/raw_feature_bc_matrix.h5')\n",
    "T1L_WT_Heart_D10PI_sc = sc.read_10x_h5('./../../../scData/Heart_T1L_D10PI/outs/raw_feature_bc_matrix.h5')\n",
    "\n",
    "Mock_Heart_D4PI_sc.var_names_make_unique()\n",
    "T1L_WT_Heart_D4PI_sc.var_names_make_unique()\n",
    "Mock_Heart_D7PI_sc.var_names_make_unique()\n",
    "T1L_WT_Heart_D7PI_sc.var_names_make_unique()\n",
    "Mock_Heart_D10PI_sc.var_names_make_unique()\n",
    "T1L_WT_Heart_D10PI_sc.var_names_make_unique()"
   ]
  },
  {
   "cell_type": "code",
   "execution_count": 23,
   "id": "authorized-block",
   "metadata": {},
   "outputs": [
    {
     "name": "stdout",
     "output_type": "stream",
     "text": [
      "(3193775, 54848)\n"
     ]
    }
   ],
   "source": [
    "heart_infection_sc_4samples = T1L_WT_Heart_D4PI_sc.concatenate(T1L_WT_Heart_D7PI_sc, T1L_WT_Heart_D10PI_sc,\n",
    "                                                    batch_key= \"sample\", batch_categories=[\"Heart_T1L-WT_D4PI\", \"Heart_T1L-WT_D7PI\", \"Heart_T1L-WT_D10PI\"],\n",
    "                                                    index_unique=\"-\")\n",
    "heart_infection_sc_4samples.obs_names_make_unique()\n",
    "heart_infection_sc_4samples.var_names_make_unique()\n",
    "print(heart_infection_sc_4samples.shape)"
   ]
  },
  {
   "cell_type": "code",
   "execution_count": 24,
   "id": "statewide-rider",
   "metadata": {},
   "outputs": [
    {
     "name": "stdout",
     "output_type": "stream",
     "text": [
      "['ReoT1L_T1LReoS1', 'ReoT1L_T1LReoS2', 'ReoT1L_T1LReoS3', 'ReoT1L_T1LReoS4', 'ReoT1L_T1LReoM1', 'ReoT1L_T1LReoM2', 'ReoT1L_T1LReoM3', 'ReoT1L_T1LReoL1', 'ReoT1L_T1LReoL2', 'ReoT1L_T1LReoL3']\n"
     ]
    },
    {
     "name": "stderr",
     "output_type": "stream",
     "text": [
      "/home/mm2937/miniconda3/envs/python385/lib/python3.8/site-packages/pandas/core/arrays/categorical.py:2631: FutureWarning: The `inplace` parameter in pandas.Categorical.remove_unused_categories is deprecated and will be removed in a future version.\n",
      "  res = method(*args, **kwargs)\n"
     ]
    },
    {
     "name": "stdout",
     "output_type": "stream",
     "text": [
      "(3193775, 54838)\n"
     ]
    }
   ],
   "source": [
    "reoviral_genes = [name for name in heart_infection_sc_4samples.var_names if name.startswith('Reo')]\n",
    "print(reoviral_genes)\n",
    "\n",
    "viral_expression = heart_infection_sc_4samples[:,reoviral_genes].to_df()\n",
    "viral_expression.columns = [x.split(\"_\")[1] for x in viral_expression.columns]\n",
    "reoviral_genes_indicator = np.in1d(heart_infection_sc_4samples.var_names, reoviral_genes)\n",
    "heart_infection_sc_4samples_no_viral_genes = heart_infection_sc_4samples[:, ~reoviral_genes_indicator]\n",
    "heart_infection_sc_4samples_no_viral_genes.var_names = [name.split(\"_\")[1] for name in heart_infection_sc_4samples_no_viral_genes.var_names]\n",
    "heart_infection_sc_4samples_no_viral_genes.obs = heart_infection_sc_4samples_no_viral_genes.obs.join(viral_expression.astype(int))\n",
    "print(heart_infection_sc_4samples_no_viral_genes.shape)"
   ]
  },
  {
   "cell_type": "code",
   "execution_count": 25,
   "id": "sweet-carroll",
   "metadata": {},
   "outputs": [],
   "source": [
    "temp_dataset_no_viral_genes  = heart_infection_sc_4samples_no_viral_genes\n",
    "temp_dataset_no_viral_genes.var['mt'] = temp_dataset_no_viral_genes.var_names.str.startswith('mt-')  # annotate the group of mitochondrial genes as 'mt'\n",
    "sc.pp.calculate_qc_metrics(temp_dataset_no_viral_genes, qc_vars=['mt'], percent_top=None, log1p=False, inplace=True)"
   ]
  },
  {
   "cell_type": "code",
   "execution_count": 29,
   "id": "hawaiian-class",
   "metadata": {},
   "outputs": [
    {
     "name": "stdout",
     "output_type": "stream",
     "text": [
      "(3193775, 6)\n",
      "Dead cells        1650519\n",
      "Empty Droplets    1517581\n",
      "Viable cells        25675\n",
      "Name: cell_in_droplet, dtype: int64\n"
     ]
    }
   ],
   "source": [
    "data = pd.DataFrame({\"cell_barcode\":temp_dataset_no_viral_genes.obs_names, \"total_counts\":temp_dataset_no_viral_genes.obs[\"total_counts\"], \"sample\":temp_dataset_no_viral_genes.obs[\"sample\"]})\n",
    "data[\"Gapdh\"] = temp_dataset_no_viral_genes[:,\"Gapdh\"].to_df()\n",
    "data[\"Hba-a1\"] = temp_dataset_no_viral_genes[:,\"Hba-a1\"].to_df()\n",
    "data[\"cell_in_droplet\"] = [\"Viable cells\" if data.loc[x, \"total_counts\"] > 200 else \"Dead cells\" for x in data[\"cell_barcode\"]]\n",
    "data[\"cell_in_droplet\"] = [\"Empty Droplets\" if data.loc[x, \"total_counts\"] < 1 else data.loc[x, \"cell_in_droplet\"] for x in data[\"cell_barcode\"]]\n",
    "data[\"total_counts\"] = data[\"total_counts\"] + 1\n",
    "data[\"Gapdh\"] = data[\"Gapdh\"] + 1\n",
    "data[\"Hba-a1\"] = data[\"Hba-a1\"] + 1\n",
    "print(data.shape)\n",
    "print(data[\"cell_in_droplet\"].value_counts())"
   ]
  },
  {
   "cell_type": "code",
   "execution_count": 30,
   "id": "sorted-summit",
   "metadata": {},
   "outputs": [],
   "source": [
    "data = data.sort_values(by=\"total_counts\", ascending=False)\n",
    "data[\"cell_number\"] = [i for i in range(temp_dataset_no_viral_genes.shape[0])]\n",
    "data[\"cell_number\"] = np.log10(data[\"cell_number\"] + 1) + 1"
   ]
  },
  {
   "cell_type": "code",
   "execution_count": 31,
   "id": "deluxe-trustee",
   "metadata": {},
   "outputs": [
    {
     "data": {
      "image/png": "[encoded data removed]",
      "text/plain": [
       "<Figure size 300x225 with 1 Axes>"
      ]
     },
     "metadata": {
      "image/png": {
       "height": 208,
       "width": 446
      }
     },
     "output_type": "display_data"
    }
   ],
   "source": [
    "sc.settings.set_figure_params(dpi=150, dpi_save= 300, fontsize=6, frameon=True, figsize=(3, 3), transparent=False, format=\"pdf\")\n",
    "fig, ax = plt.subplots(figsize=(2, 1.5))\n",
    "plt.rc('font', size=6)\n",
    "ax.set_axisbelow(True)\n",
    "plt.grid(False)\n",
    "plt.xlabel(\"Droplets\")\n",
    "plt.ylabel(\"UMI counts\")\n",
    "sns.scatterplot(data = data, x = \"cell_number\", y = \"total_counts\", hue = \"cell_in_droplet\", linewidth = 0, size = 1.0, rasterized=True, ax=ax)\n",
    "# ax.set_xticklabels(ax.get_xticklabels(), rotation=45, horizontalalignment='right')\n",
    "ax.set(yscale = \"log\", xscale = \"log\")\n",
    "ax.axes.xaxis.set_visible(False)\n",
    "# ax.axes.xaxis.set_ticks([])\n",
    "plt.legend(ncol=1, prop={'size': 6}, handletextpad=0.5, markerscale = 0.6, frameon = False, labelspacing = 0.2, bbox_to_anchor = (1.0,1.0))\n",
    "# plt.tight_layout()\n",
    "plt.savefig(\"./figures/knee_totalUMI.pdf\")"
   ]
  },
  {
   "cell_type": "code",
   "execution_count": 32,
   "id": "cleared-gasoline",
   "metadata": {},
   "outputs": [
    {
     "name": "stdout",
     "output_type": "stream",
     "text": [
      "reading ./../../../scData/sc_xGen22/Heart_T1L_D4PI_xGen/outs/raw_feature_bc_matrix.h5\n"
     ]
    },
    {
     "name": "stderr",
     "output_type": "stream",
     "text": [
      "Variable names are not unique. To make them unique, call `.var_names_make_unique`.\n"
     ]
    },
    {
     "name": "stdout",
     "output_type": "stream",
     "text": [
      " (0:00:00)\n"
     ]
    },
    {
     "name": "stderr",
     "output_type": "stream",
     "text": [
      "Variable names are not unique. To make them unique, call `.var_names_make_unique`.\n"
     ]
    },
    {
     "name": "stdout",
     "output_type": "stream",
     "text": [
      "reading ./../../../scData/sc_xGen22/Heart_T1L_D7PI_xGen/outs/raw_feature_bc_matrix.h5\n"
     ]
    },
    {
     "name": "stderr",
     "output_type": "stream",
     "text": [
      "Variable names are not unique. To make them unique, call `.var_names_make_unique`.\n"
     ]
    },
    {
     "name": "stdout",
     "output_type": "stream",
     "text": [
      " (0:00:00)\n"
     ]
    },
    {
     "name": "stderr",
     "output_type": "stream",
     "text": [
      "Variable names are not unique. To make them unique, call `.var_names_make_unique`.\n"
     ]
    },
    {
     "name": "stdout",
     "output_type": "stream",
     "text": [
      "reading ./../../../scData/sc_xGen22/Heart_T1L_D10PI_xGen/outs/raw_feature_bc_matrix.h5\n"
     ]
    },
    {
     "name": "stderr",
     "output_type": "stream",
     "text": [
      "Variable names are not unique. To make them unique, call `.var_names_make_unique`.\n"
     ]
    },
    {
     "name": "stdout",
     "output_type": "stream",
     "text": [
      " (0:00:00)\n"
     ]
    },
    {
     "name": "stderr",
     "output_type": "stream",
     "text": [
      "Variable names are not unique. To make them unique, call `.var_names_make_unique`.\n"
     ]
    },
    {
     "name": "stdout",
     "output_type": "stream",
     "text": [
      "(84949, 54848)\n"
     ]
    }
   ],
   "source": [
    "T1L_WT_Heart_D4PI_xGen3 = sc.read_10x_h5('./../../../scData/sc_xGen22/Heart_T1L_D4PI_xGen/outs/raw_feature_bc_matrix.h5')\n",
    "T1L_WT_Heart_D7PI_xGen3 = sc.read_10x_h5('./../../../scData/sc_xGen22/Heart_T1L_D7PI_xGen/outs/raw_feature_bc_matrix.h5')\n",
    "T1L_WT_Heart_D10PI_xGen3 = sc.read_10x_h5('./../../../scData/sc_xGen22/Heart_T1L_D10PI_xGen/outs/raw_feature_bc_matrix.h5')\n",
    "\n",
    "T1L_WT_Heart_D4PI_xGen3.var_names_make_unique()\n",
    "T1L_WT_Heart_D7PI_xGen3.var_names_make_unique()\n",
    "T1L_WT_Heart_D10PI_xGen3.var_names_make_unique()\n",
    "\n",
    "heart_infection_sc_4samples_xGen3 = T1L_WT_Heart_D4PI_xGen3.concatenate(T1L_WT_Heart_D7PI_xGen3, T1L_WT_Heart_D10PI_xGen3,\n",
    "                                                    batch_key= \"sample\", batch_categories=[\"Heart_T1L-WT_D4PI\", \"Heart_T1L-WT_D7PI\", \"Heart_T1L-WT_D10PI\"],\n",
    "                                                    index_unique=\"-\")\n",
    "heart_infection_sc_4samples_xGen3.obs_names_make_unique()\n",
    "heart_infection_sc_4samples_xGen3.var_names_make_unique()\n",
    "print(heart_infection_sc_4samples_xGen3.shape)"
   ]
  },
  {
   "cell_type": "code",
   "execution_count": 33,
   "id": "stretch-calgary",
   "metadata": {},
   "outputs": [
    {
     "name": "stdout",
     "output_type": "stream",
     "text": [
      "['ReoT1L_T1LReoS1', 'ReoT1L_T1LReoS2', 'ReoT1L_T1LReoS3', 'ReoT1L_T1LReoS4', 'ReoT1L_T1LReoM1', 'ReoT1L_T1LReoM2', 'ReoT1L_T1LReoM3', 'ReoT1L_T1LReoL1', 'ReoT1L_T1LReoL2', 'ReoT1L_T1LReoL3']\n",
      "(84949, 10)\n"
     ]
    },
    {
     "name": "stderr",
     "output_type": "stream",
     "text": [
      "/home/mm2937/miniconda3/envs/python385/lib/python3.8/site-packages/pandas/core/arrays/categorical.py:2631: FutureWarning: The `inplace` parameter in pandas.Categorical.remove_unused_categories is deprecated and will be removed in a future version.\n",
      "  res = method(*args, **kwargs)\n"
     ]
    }
   ],
   "source": [
    "reoviral_genes = [name for name in heart_infection_sc_4samples_xGen3.var_names if name.startswith('Reo')]\n",
    "print(reoviral_genes)\n",
    "\n",
    "viral_expression = heart_infection_sc_4samples_xGen3[:,reoviral_genes].to_df()\n",
    "viral_expression.columns = [x.split(\"_\")[1] for x in viral_expression.columns]\n",
    "reoviral_genes_indicator = np.in1d(heart_infection_sc_4samples_xGen3.var_names, reoviral_genes)\n",
    "heart_infection_sc_4samples_xGen3 = heart_infection_sc_4samples_xGen3[:, reoviral_genes_indicator]\n",
    "heart_infection_sc_4samples_xGen3.var_names = [name.split(\"_\")[1] for name in heart_infection_sc_4samples_xGen3.var_names]\n",
    "heart_infection_sc_4samples_xGen3.obs = heart_infection_sc_4samples_xGen3.obs.join(viral_expression.astype(int))\n",
    "print(heart_infection_sc_4samples_xGen3.shape)"
   ]
  },
  {
   "cell_type": "code",
   "execution_count": 34,
   "id": "least-charger",
   "metadata": {},
   "outputs": [],
   "source": [
    "temp_dataset_viral_genes  = heart_infection_sc_4samples_xGen3\n",
    "temp_dataset_viral_genes.var['mt'] = temp_dataset_viral_genes.var_names.str.startswith('mt-')  # annotate the group of mitochondrial genes as 'mt'\n",
    "sc.pp.calculate_qc_metrics(temp_dataset_viral_genes, qc_vars=['mt'], percent_top=None, log1p=False, inplace=True)"
   ]
  },
  {
   "cell_type": "code",
   "execution_count": 35,
   "id": "direct-gathering",
   "metadata": {
    "scrolled": true
   },
   "outputs": [
    {
     "name": "stdout",
     "output_type": "stream",
     "text": [
      "(84949, 4)\n"
     ]
    }
   ],
   "source": [
    "viral_data = pd.DataFrame({\"cell_barcode\":temp_dataset_viral_genes.obs_names, \"sample\":temp_dataset_viral_genes.obs[\"sample\"], \"total_viral_counts\":temp_dataset_viral_genes.obs[\"total_counts\"]})\n",
    "viral_data = viral_data.sort_values(by=\"total_viral_counts\", ascending=False)\n",
    "viral_data[\"cell_number\"] = [i+1 for i in range(viral_data.shape[0])]\n",
    "viral_data[\"cell_number\"] = np.log10(viral_data[\"cell_number\"]+1) + 1\n",
    "# viral_data = viral_data[viral_data[\"cell_barcode\"].isin(data[\"cell_barcode\"])]\n",
    "print(viral_data.shape)\n",
    "# viral_data[\"cell_in_droplet\"] = [data.loc[x,\"cell_in_droplet\"] for x in viral_data.index]\n",
    "# viral_data[\"total_counts\"] = [data.loc[x,\"total_counts\"] for x in viral_data.index]\n",
    "# viral_data[\"Gapdh\"] = [data.loc[x,\"Gapdh\"] for x in viral_data.index]\n",
    "# print(viral_data[\"cell_in_droplet\"].value_counts())\n",
    "data[\"total_viral_counts\"] = [viral_data.loc[x, \"total_viral_counts\"] if x in viral_data.index else 0 for x in data.index]\n",
    "data[\"total_viral_counts\"] = data[\"total_viral_counts\"] + 1"
   ]
  },
  {
   "cell_type": "code",
   "execution_count": 36,
   "id": "social-delicious",
   "metadata": {},
   "outputs": [],
   "source": [
    "data = data.sort_values(by=\"total_viral_counts\", ascending=False)\n",
    "data[\"cell_number\"] = [i for i in range(temp_dataset_no_viral_genes.shape[0])]\n",
    "data[\"cell_number\"] = np.log10(data[\"cell_number\"] + 1) + 1"
   ]
  },
  {
   "cell_type": "code",
   "execution_count": 38,
   "id": "oriented-discharge",
   "metadata": {},
   "outputs": [
    {
     "data": {
      "image/png": "[encoded data removed]",
      "text/plain": [
       "<Figure size 300x225 with 1 Axes>"
      ]
     },
     "metadata": {
      "image/png": {
       "height": 211,
       "width": 321
      }
     },
     "output_type": "display_data"
    }
   ],
   "source": [
    "sc.settings.set_figure_params(dpi=150, dpi_save= 300, fontsize=6, frameon=True, figsize=(3, 3), transparent=False, format=\"pdf\")\n",
    "fig, ax = plt.subplots(figsize=(2, 1.5))\n",
    "plt.rc('font', size=6)\n",
    "plt.grid(False)\n",
    "plt.xlabel(\"Viral UMI counts\")\n",
    "plt.xlabel(\"Droplets\")\n",
    "sns.scatterplot(data = data, x = \"cell_number\", y = \"total_viral_counts\", hue = \"cell_in_droplet\", linewidth = 0, size = 1.0, rasterized=True, ax=ax)\n",
    "ax.set(yscale = \"log\", xscale = \"log\")\n",
    "plt.legend(ncol=1, prop={'size': 6}, handletextpad=0.5, markerscale = 0.6, frameon = False, labelspacing = 0.2, bbox_to_anchor = (1.0,1.0))\n",
    "ax.axes.xaxis.set_visible(False)\n",
    "# plt.tight_layout()\n",
    "plt.savefig(\"./figures/knee_totalviralUMI.pdf\")"
   ]
  },
  {
   "cell_type": "code",
   "execution_count": null,
   "id": "biological-joshua",
   "metadata": {},
   "outputs": [],
   "source": []
  }
 ],
 "metadata": {
  "kernelspec": {
   "display_name": "Python 3 (ipykernel)",
   "language": "python",
   "name": "python3"
  },
  "language_info": {
   "codemirror_mode": {
    "name": "ipython",
    "version": 3
   },
   "file_extension": ".py",
   "mimetype": "text/x-python",
   "name": "python",
   "nbconvert_exporter": "python",
   "pygments_lexer": "ipython3",
   "version": "3.8.5"
  }
 },
 "nbformat": 4,
 "nbformat_minor": 5
}
