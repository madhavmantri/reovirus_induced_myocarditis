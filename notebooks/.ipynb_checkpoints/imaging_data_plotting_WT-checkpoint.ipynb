{
 "cells": [
  {
   "cell_type": "code",
   "execution_count": 1,
   "id": "collected-rebecca",
   "metadata": {},
   "outputs": [],
   "source": [
    "import numpy as np\n",
    "import pandas as pd\n",
    "import matplotlib.pyplot as plt\n",
    "import seaborn as sns\n",
    "from statannotations.Annotator import Annotator"
   ]
  },
  {
   "cell_type": "code",
   "execution_count": 316,
   "id": "opening-incidence",
   "metadata": {},
   "outputs": [],
   "source": [
    "trbc1_data_mock = pd.read_csv(\"./../../../../MouseInfectionImages/Mock/Summary_tcells_trbc2.csv\")\n",
    "trbc1_data_T1L = pd.read_csv(\"./../../../../MouseInfectionImages/T1L/Summary_tcell_trbc2.csv\")\n",
    "trbc1_data_K287T = pd.read_csv(\"./../../../../MouseInfectionImages/K287T/Summary_tcell_trbc2.csv\")\n",
    "trbc1_data = pd.concat([trbc1_data_mock, trbc1_data_T1L, trbc1_data_K287T]).drop_duplicates(subset =\"Slice\")\n",
    "\n",
    "trbc1_data_mock = pd.read_csv(\"./../../../../MouseInfectionImages/Mock/Summary_tcell_nuclei.csv\")\n",
    "trbc1_data_T1L = pd.read_csv(\"./../../../../MouseInfectionImages/T1L/Summary_tcell_nuclei.csv\")\n",
    "trbc1_data_K287T = pd.read_csv(\"./../../../../MouseInfectionImages/K287T/Summary_tcell_nuclei.csv\")\n",
    "trbc1_data_total = pd.concat([trbc1_data_mock, trbc1_data_T1L, trbc1_data_K287T]).drop_duplicates(subset =\"Slice\")\n",
    "\n",
    "trbc1_data_final = trbc1_data\n",
    "trbc1_data_final = trbc1_data_final.rename(columns = {\"Count\": \"Trbc2_Count\"})\n",
    "# trbc1_data_final = trbc1_data_final.rename(columns = {\"Mean\": \"MeanIntensity\"})\n",
    "trbc1_data_final[\"Total_Count\"] = trbc1_data_total[\"Count\"].to_numpy()\n",
    "\n",
    "trbc1_data_final[\"Percent\"] = (trbc1_data_final[\"Trbc2_Count\"].to_numpy()/ trbc1_data_final[\"Total_Count\"].to_numpy()) * 100\n",
    "trbc1_data_final[\"Condition\"] = [x.split(\"-\")[0].split(\"_\")[0] for x in trbc1_data_final[\"Slice\"]]\n",
    "trbc1_data_final.to_csv(\"./../../../csvs_github/K287T_trbc2_FISH_data.csv\")"
   ]
  },
  {
   "cell_type": "code",
   "execution_count": 90,
   "id": "regulation-swiss",
   "metadata": {},
   "outputs": [
    {
     "name": "stderr",
     "output_type": "stream",
     "text": [
      "No handles with labels found to put in legend.\n"
     ]
    },
    {
     "name": "stdout",
     "output_type": "stream",
     "text": [
      "p-value annotation legend:\n",
      "      ns: p <= 1.00e+00\n",
      "       *: 1.00e-02 < p <= 5.00e-02\n",
      "      **: 1.00e-03 < p <= 1.00e-02\n",
      "     ***: 1.00e-04 < p <= 1.00e-03\n",
      "    ****: p <= 1.00e-04\n",
      "\n",
      "T1L vs. K287T: Mann-Whitney-Wilcoxon test two-sided, P_val:2.000e-01 U_stat=1.300e+01\n"
     ]
    },
    {
     "data": {
      "image/png": "[encoded data removed]",
      "text/plain": [
       "<Figure size 86.4x86.4 with 1 Axes>"
      ]
     },
     "metadata": {
      "needs_background": "light"
     },
     "output_type": "display_data"
    }
   ],
   "source": [
    "fig, ax = plt.subplots(figsize=(1.2, 1.2))\n",
    "plt.rc('font', size=6)\n",
    "ax.set_axisbelow(True)\n",
    "plt.grid(False)\n",
    "ax.tick_params(axis='y', which='major', pad=0)\n",
    "ax.tick_params(axis='x', which='major', pad=2)\n",
    "sns.stripplot(data = trbc1_data_final, y= \"Percent\", x = \"Condition\", size=2.0, color = \"black\", ax=ax)\n",
    "sns.boxplot(data = trbc1_data_final, y= \"Percent\", x = \"Condition\", linewidth = 0.5, fliersize = 1.0, ax=ax)\n",
    "ax.set_xticklabels(ax.get_xticklabels(), rotation=0, horizontalalignment='center')\n",
    "plt.legend(ncol=1, prop={'size': 6}, handletextpad=0.5, markerscale = 0.6, frameon = False, labelspacing = 0.2, bbox_to_anchor = (1.0,1.0))\n",
    "plt.tight_layout()\n",
    "plt.margins(x=0, y=0)\n",
    "plt.xlabel(\"Condition\", labelpad=2)\n",
    "plt.ylabel(\"Percent of T cells\", labelpad=0)\n",
    "pairs=[(\"T1L\", \"K287T\")]\n",
    "annotator = Annotator(ax, pairs, data=trbc1_data_final, x=\"Condition\", y=\"Percent\")\n",
    "annotator.configure(test='Mann-Whitney', text_format='star', loc='inside', text_offset = -2, line_offset = -2, line_width = 0.5, line_height = 0.05, line_offset_to_group = 0)\n",
    "annotator.apply_and_annotate()\n",
    "# plt.show()\n",
    "plt.savefig(\"figures/imaging_tcells.pdf\", facecolor='w', edgecolor='w',\n",
    "        orientation='potrait', format=\"pdf\",\n",
    "        transparent=True, metadata=None)"
   ]
  },
  {
   "cell_type": "code",
   "execution_count": 319,
   "id": "dedicated-madrid",
   "metadata": {},
   "outputs": [
    {
     "data": {
      "text/html": [
       "<div>\n",
       "<style scoped>\n",
       "    .dataframe tbody tr th:only-of-type {\n",
       "        vertical-align: middle;\n",
       "    }\n",
       "\n",
       "    .dataframe tbody tr th {\n",
       "        vertical-align: top;\n",
       "    }\n",
       "\n",
       "    .dataframe thead th {\n",
       "        text-align: right;\n",
       "    }\n",
       "</style>\n",
       "<table border=\"1\" class=\"dataframe\">\n",
       "  <thead>\n",
       "    <tr style=\"text-align: right;\">\n",
       "      <th></th>\n",
       "      <th>Slice</th>\n",
       "      <th>Prf1_Count</th>\n",
       "      <th>Total Area</th>\n",
       "      <th>Average Size</th>\n",
       "      <th>%Area</th>\n",
       "      <th>Mean</th>\n",
       "      <th>IntDen</th>\n",
       "      <th>Total_Count</th>\n",
       "      <th>Percent</th>\n",
       "      <th>Condition</th>\n",
       "    </tr>\n",
       "  </thead>\n",
       "  <tbody>\n",
       "    <tr>\n",
       "      <th>0</th>\n",
       "      <td>Mock-Set1_slide7_heart1_stitch_stitch_stitch_c...</td>\n",
       "      <td>5</td>\n",
       "      <td>27.419</td>\n",
       "      <td>5.484</td>\n",
       "      <td>0.001</td>\n",
       "      <td>255.0</td>\n",
       "      <td>1398.388</td>\n",
       "      <td>51946</td>\n",
       "      <td>0.009625</td>\n",
       "      <td>Mock</td>\n",
       "    </tr>\n",
       "    <tr>\n",
       "      <th>1</th>\n",
       "      <td>Mock-Set1_slide7_heart2_stitch_stitch_stitch_c...</td>\n",
       "      <td>0</td>\n",
       "      <td>0.000</td>\n",
       "      <td>NaN</td>\n",
       "      <td>0.000</td>\n",
       "      <td>NaN</td>\n",
       "      <td>NaN</td>\n",
       "      <td>57693</td>\n",
       "      <td>0.000000</td>\n",
       "      <td>Mock</td>\n",
       "    </tr>\n",
       "    <tr>\n",
       "      <th>0</th>\n",
       "      <td>T1L-Set1_slide7_heart1_stitch_stitch_c4.tif</td>\n",
       "      <td>284</td>\n",
       "      <td>1077.742</td>\n",
       "      <td>3.795</td>\n",
       "      <td>0.055</td>\n",
       "      <td>255.0</td>\n",
       "      <td>NaN</td>\n",
       "      <td>57357</td>\n",
       "      <td>0.495144</td>\n",
       "      <td>T1L</td>\n",
       "    </tr>\n",
       "    <tr>\n",
       "      <th>1</th>\n",
       "      <td>T1L-Set1_slide7_heart2_stitch_stitch_stitch_c4...</td>\n",
       "      <td>1530</td>\n",
       "      <td>6950.316</td>\n",
       "      <td>4.543</td>\n",
       "      <td>0.276</td>\n",
       "      <td>255.0</td>\n",
       "      <td>NaN</td>\n",
       "      <td>50856</td>\n",
       "      <td>3.008495</td>\n",
       "      <td>T1L</td>\n",
       "    </tr>\n",
       "    <tr>\n",
       "      <th>2</th>\n",
       "      <td>T1L-Set2_slide7_heart1_stitch_stitch_stitch_c4...</td>\n",
       "      <td>396</td>\n",
       "      <td>1531.769</td>\n",
       "      <td>3.868</td>\n",
       "      <td>0.083</td>\n",
       "      <td>255.0</td>\n",
       "      <td>NaN</td>\n",
       "      <td>55432</td>\n",
       "      <td>0.714389</td>\n",
       "      <td>T1L</td>\n",
       "    </tr>\n",
       "    <tr>\n",
       "      <th>3</th>\n",
       "      <td>T1L-Set2_slide7_heart2_stitch_stitch_stitch_c4...</td>\n",
       "      <td>235</td>\n",
       "      <td>802.379</td>\n",
       "      <td>3.414</td>\n",
       "      <td>0.024</td>\n",
       "      <td>255.0</td>\n",
       "      <td>NaN</td>\n",
       "      <td>47255</td>\n",
       "      <td>0.497302</td>\n",
       "      <td>T1L</td>\n",
       "    </tr>\n",
       "    <tr>\n",
       "      <th>0</th>\n",
       "      <td>K287T_Set1_slide6_heart1_stitch_stitch_stitch_...</td>\n",
       "      <td>153</td>\n",
       "      <td>623.873</td>\n",
       "      <td>4.078</td>\n",
       "      <td>0.034</td>\n",
       "      <td>255.0</td>\n",
       "      <td>NaN</td>\n",
       "      <td>47598</td>\n",
       "      <td>0.321442</td>\n",
       "      <td>K287T</td>\n",
       "    </tr>\n",
       "    <tr>\n",
       "      <th>1</th>\n",
       "      <td>K287T_Set1_slide6_heart2_stitch_stitch_stitch_...</td>\n",
       "      <td>82</td>\n",
       "      <td>275.090</td>\n",
       "      <td>3.355</td>\n",
       "      <td>0.016</td>\n",
       "      <td>255.0</td>\n",
       "      <td>NaN</td>\n",
       "      <td>51873</td>\n",
       "      <td>0.158078</td>\n",
       "      <td>K287T</td>\n",
       "    </tr>\n",
       "    <tr>\n",
       "      <th>2</th>\n",
       "      <td>K287T_Set2_slide3_heart1_stitch_stitch_c4.tif</td>\n",
       "      <td>125</td>\n",
       "      <td>456.932</td>\n",
       "      <td>3.655</td>\n",
       "      <td>0.015</td>\n",
       "      <td>255.0</td>\n",
       "      <td>NaN</td>\n",
       "      <td>46294</td>\n",
       "      <td>0.270013</td>\n",
       "      <td>K287T</td>\n",
       "    </tr>\n",
       "    <tr>\n",
       "      <th>3</th>\n",
       "      <td>K287T_Set2_slide3_heart2_stitch_stitch_c4.tif</td>\n",
       "      <td>101</td>\n",
       "      <td>366.732</td>\n",
       "      <td>3.631</td>\n",
       "      <td>0.016</td>\n",
       "      <td>255.0</td>\n",
       "      <td>NaN</td>\n",
       "      <td>59708</td>\n",
       "      <td>0.169157</td>\n",
       "      <td>K287T</td>\n",
       "    </tr>\n",
       "  </tbody>\n",
       "</table>\n",
       "</div>"
      ],
      "text/plain": [
       "                                               Slice  Prf1_Count  Total Area  \\\n",
       "0  Mock-Set1_slide7_heart1_stitch_stitch_stitch_c...           5      27.419   \n",
       "1  Mock-Set1_slide7_heart2_stitch_stitch_stitch_c...           0       0.000   \n",
       "0        T1L-Set1_slide7_heart1_stitch_stitch_c4.tif         284    1077.742   \n",
       "1  T1L-Set1_slide7_heart2_stitch_stitch_stitch_c4...        1530    6950.316   \n",
       "2  T1L-Set2_slide7_heart1_stitch_stitch_stitch_c4...         396    1531.769   \n",
       "3  T1L-Set2_slide7_heart2_stitch_stitch_stitch_c4...         235     802.379   \n",
       "0  K287T_Set1_slide6_heart1_stitch_stitch_stitch_...         153     623.873   \n",
       "1  K287T_Set1_slide6_heart2_stitch_stitch_stitch_...          82     275.090   \n",
       "2      K287T_Set2_slide3_heart1_stitch_stitch_c4.tif         125     456.932   \n",
       "3      K287T_Set2_slide3_heart2_stitch_stitch_c4.tif         101     366.732   \n",
       "\n",
       "   Average Size  %Area   Mean    IntDen  Total_Count   Percent Condition  \n",
       "0         5.484  0.001  255.0  1398.388        51946  0.009625      Mock  \n",
       "1           NaN  0.000    NaN       NaN        57693  0.000000      Mock  \n",
       "0         3.795  0.055  255.0       NaN        57357  0.495144       T1L  \n",
       "1         4.543  0.276  255.0       NaN        50856  3.008495       T1L  \n",
       "2         3.868  0.083  255.0       NaN        55432  0.714389       T1L  \n",
       "3         3.414  0.024  255.0       NaN        47255  0.497302       T1L  \n",
       "0         4.078  0.034  255.0       NaN        47598  0.321442     K287T  \n",
       "1         3.355  0.016  255.0       NaN        51873  0.158078     K287T  \n",
       "2         3.655  0.015  255.0       NaN        46294  0.270013     K287T  \n",
       "3         3.631  0.016  255.0       NaN        59708  0.169157     K287T  "
      ]
     },
     "execution_count": 319,
     "metadata": {},
     "output_type": "execute_result"
    }
   ],
   "source": [
    "prf1_data_mock = pd.read_csv(\"./../../../../MouseInfectionImages/Mock/Summary_tcells_prf1.csv\")\n",
    "prf1_data_T1L = pd.read_csv(\"./../../../../MouseInfectionImages/T1L/Summary_tcell_prf1.csv\")\n",
    "prf1_data_K287T = pd.read_csv(\"./../../../../MouseInfectionImages/K287T/Summary_tcell_prf1.csv\")\n",
    "prf1_data = pd.concat([prf1_data_mock, prf1_data_T1L, prf1_data_K287T]).drop_duplicates(subset =\"Slice\")\n",
    "\n",
    "prf1_data_mock = pd.read_csv(\"./../../../../MouseInfectionImages/Mock/Summary_tcell_nuclei.csv\")\n",
    "prf1_data_T1L = pd.read_csv(\"./../../../../MouseInfectionImages/T1L/Summary_tcell_nuclei.csv\")\n",
    "prf1_data_K287T = pd.read_csv(\"./../../../../MouseInfectionImages/K287T/Summary_tcell_nuclei.csv\")\n",
    "prf1_data_total = pd.concat([prf1_data_mock, prf1_data_T1L, prf1_data_K287T]).drop_duplicates(subset =\"Slice\")\n",
    "\n",
    "prf1_data_final = prf1_data\n",
    "prf1_data_final = prf1_data_final.rename(columns = {\"Count\": \"Prf1_Count\"})\n",
    "# prf1_data_final = prf1_data_final.rename(columns = {\"Mean\": \"MeanIntensity\"})\n",
    "prf1_data_final[\"Total_Count\"] = prf1_data_total[\"Count\"].to_numpy()\n",
    "\n",
    "prf1_data_final[\"Percent\"] = (prf1_data_final[\"Prf1_Count\"].to_numpy()/ prf1_data_final[\"Total_Count\"].to_numpy()) * 100\n",
    "prf1_data_final[\"Condition\"] = [x.split(\"-\")[0].split(\"_\")[0] for x in prf1_data_final[\"Slice\"]]\n",
    "prf1_data_final"
   ]
  },
  {
   "cell_type": "code",
   "execution_count": 94,
   "id": "close-marshall",
   "metadata": {},
   "outputs": [
    {
     "name": "stderr",
     "output_type": "stream",
     "text": [
      "No handles with labels found to put in legend.\n"
     ]
    },
    {
     "name": "stdout",
     "output_type": "stream",
     "text": [
      "p-value annotation legend:\n",
      "      ns: p <= 1.00e+00\n",
      "       *: 1.00e-02 < p <= 5.00e-02\n",
      "      **: 1.00e-03 < p <= 1.00e-02\n",
      "     ***: 1.00e-04 < p <= 1.00e-03\n",
      "    ****: p <= 1.00e-04\n",
      "\n",
      "T1L vs. K287T: Mann-Whitney-Wilcoxon test two-sided, P_val:2.857e-02 U_stat=1.600e+01\n"
     ]
    },
    {
     "name": "stderr",
     "output_type": "stream",
     "text": [
      "/home/mm2937/.local/lib/python3.8/site-packages/statannotations/_Plotter.py:337: UserWarning: Invalid x-position found. Are the same parameters passed to seaborn and statannotations calls? or are there few data points?\n",
      "  warnings.warn(\n"
     ]
    },
    {
     "data": {
      "image/png": "[encoded data removed]",
      "text/plain": [
       "<Figure size 86.4x86.4 with 1 Axes>"
      ]
     },
     "metadata": {
      "needs_background": "light"
     },
     "output_type": "display_data"
    }
   ],
   "source": [
    "fig, ax = plt.subplots(figsize=(1.2, 1.2))\n",
    "plt.rc('font', size=6)\n",
    "ax.set_axisbelow(True)\n",
    "plt.grid(False)\n",
    "ax.tick_params(axis='y', which='major', pad=0)\n",
    "ax.tick_params(axis='x', which='major', pad=2)\n",
    "sns.stripplot(data = prf1_data_final, y= \"Percent\", x = \"Condition\", size=2.0, color = \"black\", ax=ax)\n",
    "sns.boxplot(data = prf1_data_final, y= \"Percent\", x = \"Condition\", linewidth = 0.5, fliersize = 1.0, ax=ax)\n",
    "ax.set_xticklabels(ax.get_xticklabels(), rotation=0, horizontalalignment='center')\n",
    "plt.legend(ncol=1, prop={'size': 6}, handletextpad=0.5, markerscale = 0.6, frameon = False, labelspacing = 0.2, bbox_to_anchor = (1.0,1.0))\n",
    "plt.tight_layout()\n",
    "pairs=[(\"T1L\", \"K287T\")]\n",
    "plt.margins(x=0, y=0)\n",
    "plt.xlabel(\"Condition\", labelpad=2)\n",
    "plt.ylabel(\"Percent of Prf1+ cells\", labelpad=0)\n",
    "annotator = Annotator(ax, pairs, data=prf1_data_final, x=\"Condition\", y=\"Percent\")\n",
    "annotator.configure(test='Mann-Whitney', text_format='star', loc='inside', text_offset = -2, line_offset = -2, line_width = 0.5, line_height = 0.05, line_offset_to_group = 0)\n",
    "annotator.apply_and_annotate()\n",
    "# plt.show()\n",
    "plt.savefig(\"figures/imaging_prf1.pdf\", facecolor='w', edgecolor='w',\n",
    "        orientation='potrait', format=\"pdf\",\n",
    "        transparent=True, metadata=None)"
   ]
  },
  {
   "cell_type": "code",
   "execution_count": 2,
   "id": "knowing-journalism",
   "metadata": {},
   "outputs": [],
   "source": [
    "t1l_p20_data = pd.read_csv(\"./../../../../MouseInfectionImages/IF06192022/slide_17_647/Summary.csv\")\n",
    "t1l_p20_data.index = [x.split(\"-TR\")[0] for x in t1l_p20_data[\"Slice\"]]\n",
    "t1l_p20_area = pd.read_csv(\"./../../../../MouseInfectionImages/IF06192022/slide_17_area/Results_manual.csv\", index_col=0)\n",
    "t1l_p20_area.index =  [x.split(\"-TR\")[0] for x in t1l_p20_area[\"Label\"]]\n",
    "t1l_p20_data[\"Tissue Area\"] = t1l_p20_area[\"Area\"]\n",
    "t1l_p20_data[\"Percent\"] = (t1l_p20_data[\"Total Area\"]/ t1l_p20_data[\"Tissue Area\"]) * 100\n",
    "t1l_p20_data[\"Condition\"] = t1l_p20_data[\"Condition\"].astype(\"category\")\n",
    "t1l_p20_data[\"Condition\"] = t1l_p20_data[\"Condition\"].cat.reorder_categories(['Mock', 'T1L'])"
   ]
  },
  {
   "cell_type": "code",
   "execution_count": 9,
   "id": "overall-digit",
   "metadata": {},
   "outputs": [],
   "source": [
    "t1l_p20_data.to_csv(\"./../../../csvs_github/t1l_p20_all.csv\")"
   ]
  },
  {
   "cell_type": "code",
   "execution_count": 5,
   "id": "sized-lying",
   "metadata": {},
   "outputs": [
    {
     "name": "stderr",
     "output_type": "stream",
     "text": [
      "No handles with labels found to put in legend.\n"
     ]
    },
    {
     "name": "stdout",
     "output_type": "stream",
     "text": [
      "p-value annotation legend:\n",
      "      ns: p <= 1.00e+00\n",
      "       *: 1.00e-02 < p <= 5.00e-02\n",
      "      **: 1.00e-03 < p <= 1.00e-02\n",
      "     ***: 1.00e-04 < p <= 1.00e-03\n",
      "    ****: p <= 1.00e-04\n",
      "\n",
      "Mock vs. T1L: Mann-Whitney-Wilcoxon test two-sided, P_val:6.192e-04 U_stat=4.000e+00\n"
     ]
    },
    {
     "data": {
      "image/png": "[encoded data removed]",
      "text/plain": [
       "<Figure size 64.8x86.4 with 1 Axes>"
      ]
     },
     "metadata": {
      "needs_background": "light"
     },
     "output_type": "display_data"
    }
   ],
   "source": [
    "fig, ax = plt.subplots(figsize=(0.9, 1.2))\n",
    "plt.rc('font', size=6)\n",
    "ax.set_axisbelow(True)\n",
    "plt.grid(False)\n",
    "ax.tick_params(axis='y', which='major', pad=0)\n",
    "ax.tick_params(axis='x', which='major', pad=2)\n",
    "sns.stripplot(data = t1l_p20_data, y= \"Percent\", x = \"Condition\", size=2.0, color = \"black\", ax=ax)\n",
    "sns.boxplot(data = t1l_p20_data, y= \"Percent\", x = \"Condition\", linewidth = 0.5, fliersize = 1.0, ax=ax)\n",
    "ax.set_xticklabels(ax.get_xticklabels(), rotation=0, horizontalalignment='center')\n",
    "plt.legend(ncol=1, prop={'size': 6}, handletextpad=0.5, markerscale = 0.6, frameon = False, labelspacing = 0.2, bbox_to_anchor = (1.0,1.0))\n",
    "plt.tight_layout()\n",
    "pairs=[(\"Mock\", \"T1L\")]\n",
    "plt.margins(x=0, y=0)\n",
    "plt.xlabel(\"Condition\", labelpad=2)\n",
    "plt.ylabel(\"Percent of tissue\", labelpad=0)\n",
    "annotator = Annotator(ax, pairs, data=t1l_p20_data, x=\"Condition\", y=\"Percent\")\n",
    "annotator.configure(test='Mann-Whitney', text_format='star', loc='inside', text_offset = -2, line_offset = -2, line_width = 0.5, line_height = 0.05, line_offset_to_group = 0)\n",
    "annotator.apply_and_annotate()\n",
    "# plt.show()\n",
    "plt.savefig(\"figures/imaging_p20_wt.pdf\", facecolor='w', edgecolor='w',\n",
    "        orientation='potrait', format=\"pdf\",\n",
    "        transparent=True, metadata=None)"
   ]
  },
  {
   "cell_type": "code",
   "execution_count": 11,
   "id": "continent-garden",
   "metadata": {},
   "outputs": [],
   "source": [
    "t1l_p20_data[t1l_p20_data[\"Sex\"].isin([\"Male\"])].to_csv(\"./../../../csvs_github/t1l_p20_male.csv\")"
   ]
  },
  {
   "cell_type": "code",
   "execution_count": 151,
   "id": "downtown-secret",
   "metadata": {},
   "outputs": [
    {
     "name": "stderr",
     "output_type": "stream",
     "text": [
      "No handles with labels found to put in legend.\n"
     ]
    },
    {
     "name": "stdout",
     "output_type": "stream",
     "text": [
      "p-value annotation legend:\n",
      "      ns: p <= 1.00e+00\n",
      "       *: 1.00e-02 < p <= 5.00e-02\n",
      "      **: 1.00e-03 < p <= 1.00e-02\n",
      "     ***: 1.00e-04 < p <= 1.00e-03\n",
      "    ****: p <= 1.00e-04\n",
      "\n",
      "Mock vs. T1L: Mann-Whitney-Wilcoxon test two-sided, P_val:6.667e-02 U_stat=2.000e+00\n"
     ]
    },
    {
     "data": {
      "image/png": "[encoded data removed]",
      "text/plain": [
       "<Figure size 64.8x86.4 with 1 Axes>"
      ]
     },
     "metadata": {
      "needs_background": "light"
     },
     "output_type": "display_data"
    }
   ],
   "source": [
    "t1l_p20_data = t1l_p20_data[t1l_p20_data[\"Sex\"].isin([\"Male\"])]\n",
    "fig, ax = plt.subplots(figsize=(0.9, 1.2))\n",
    "plt.rc('font', size=6)\n",
    "ax.set_axisbelow(True)\n",
    "plt.grid(False)\n",
    "ax.tick_params(axis='y', which='major', pad=0)\n",
    "ax.tick_params(axis='x', which='major', pad=2)\n",
    "sns.stripplot(data = t1l_p20_data, y= \"Percent\", x = \"Condition\", size=2.0, color = \"black\", ax=ax)\n",
    "sns.boxplot(data = t1l_p20_data, y= \"Percent\", x = \"Condition\", linewidth = 0.5, fliersize = 1.0, ax=ax)\n",
    "ax.set_xticklabels(ax.get_xticklabels(), rotation=0, horizontalalignment='center')\n",
    "plt.legend(ncol=1, prop={'size': 6}, handletextpad=0.5, markerscale = 0.6, frameon = False, labelspacing = 0.2, bbox_to_anchor = (1.0,1.0))\n",
    "plt.tight_layout()\n",
    "pairs=[(\"Mock\", \"T1L\")]\n",
    "plt.margins(x=0, y=0)\n",
    "plt.xlabel(\"Condition\", labelpad=2)\n",
    "plt.ylabel(\"Percent of tissue\", labelpad=0)\n",
    "annotator = Annotator(ax, pairs, data=t1l_p20_data, x=\"Condition\", y=\"Percent\")\n",
    "annotator.configure(test='Mann-Whitney', text_format='star', loc='inside', text_offset = -2, line_offset = -2, line_width = 0.5, line_height = 0.05, line_offset_to_group = 0)\n",
    "annotator.apply_and_annotate()\n",
    "# plt.show()\n",
    "plt.savefig(\"figures/imaging_p20_wt_male.pdf\", facecolor='w', edgecolor='w',\n",
    "        orientation='potrait', format=\"pdf\",\n",
    "        transparent=True, metadata=None)"
   ]
  },
  {
   "cell_type": "code",
   "execution_count": 12,
   "id": "crude-torture",
   "metadata": {},
   "outputs": [],
   "source": [
    "t1l_p20_data[t1l_p20_data[\"Sex\"].isin([\"Female\"])].to_csv(\"./../../../csvs_github/t1l_p20_female.csv\")"
   ]
  },
  {
   "cell_type": "code",
   "execution_count": 156,
   "id": "hydraulic-insertion",
   "metadata": {},
   "outputs": [
    {
     "name": "stderr",
     "output_type": "stream",
     "text": [
      "No handles with labels found to put in legend.\n"
     ]
    },
    {
     "name": "stdout",
     "output_type": "stream",
     "text": [
      "p-value annotation legend:\n",
      "      ns: p <= 1.00e+00\n",
      "       *: 1.00e-02 < p <= 5.00e-02\n",
      "      **: 1.00e-03 < p <= 1.00e-02\n",
      "     ***: 1.00e-04 < p <= 1.00e-03\n",
      "    ****: p <= 1.00e-04\n",
      "\n",
      "Mock vs. T1L: Mann-Whitney-Wilcoxon test two-sided, P_val:1.667e-02 U_stat=0.000e+00\n"
     ]
    },
    {
     "data": {
      "image/png": "[encoded data removed]",
      "text/plain": [
       "<Figure size 64.8x86.4 with 1 Axes>"
      ]
     },
     "metadata": {
      "needs_background": "light"
     },
     "output_type": "display_data"
    }
   ],
   "source": [
    "t1l_p20_data = t1l_p20_data[t1l_p20_data[\"Sex\"].isin([\"Female\"])]\n",
    "fig, ax = plt.subplots(figsize=(0.9, 1.2))\n",
    "plt.rc('font', size=6)\n",
    "ax.set_axisbelow(True)\n",
    "plt.grid(False)\n",
    "ax.tick_params(axis='y', which='major', pad=0)\n",
    "ax.tick_params(axis='x', which='major', pad=2)\n",
    "sns.stripplot(data = t1l_p20_data, y= \"Percent\", x = \"Condition\", size=2.0, color = \"black\", ax=ax)\n",
    "sns.boxplot(data = t1l_p20_data, y= \"Percent\", x = \"Condition\", linewidth = 0.5, fliersize = 1.0, ax=ax)\n",
    "ax.set_xticklabels(ax.get_xticklabels(), rotation=0, horizontalalignment='center')\n",
    "plt.legend(ncol=1, prop={'size': 6}, handletextpad=0.5, markerscale = 0.6, frameon = False, labelspacing = 0.2, bbox_to_anchor = (1.0,1.0))\n",
    "plt.tight_layout()\n",
    "pairs=[(\"Mock\", \"T1L\")]\n",
    "plt.margins(x=0, y=0)\n",
    "plt.xlabel(\"Condition\", labelpad=2)\n",
    "plt.ylabel(\"Percent of tissue\", labelpad=0)\n",
    "annotator = Annotator(ax, pairs, data=t1l_p20_data, x=\"Condition\", y=\"Percent\")\n",
    "annotator.configure(test='Mann-Whitney', text_format='star', loc='inside', text_offset = -2, line_offset = -2, line_width = 0.5, line_height = 0.05, line_offset_to_group = 0)\n",
    "annotator.apply_and_annotate()\n",
    "# plt.show()\n",
    "plt.savefig(\"figures/imaging_p20_wt_female.pdf\", facecolor='w', edgecolor='w',\n",
    "        orientation='potrait', format=\"pdf\",\n",
    "        transparent=True, metadata=None)"
   ]
  },
  {
   "cell_type": "code",
   "execution_count": 13,
   "id": "stopped-destruction",
   "metadata": {},
   "outputs": [],
   "source": [
    "t1l_p20_data = pd.read_csv(\"./../../../../MouseInfectionImages/IF06192022/slide_18_647/Summary.csv\")\n",
    "t1l_p20_data.index = [x.split(\"-TR\")[0] for x in t1l_p20_data[\"Slice\"]]\n",
    "t1l_p20_area = pd.read_csv(\"./../../../../MouseInfectionImages/IF06192022/slide_18_area/Results_manual.csv\", index_col=0)\n",
    "t1l_p20_area.index =  [x.split(\"-TR\")[0] for x in t1l_p20_area[\"Label\"]]\n",
    "t1l_p20_data[\"Tissue Area\"] = t1l_p20_area[\"Area\"]\n",
    "t1l_p20_data[\"Percent\"] = (t1l_p20_data[\"Total Area\"]/ t1l_p20_data[\"Tissue Area\"])  * 100\n",
    "t1l_p20_data[\"Condition\"] = t1l_p20_data[\"Condition\"].astype(\"category\")\n",
    "t1l_p20_data[\"Condition\"] = t1l_p20_data[\"Condition\"].cat.reorder_categories(['Mock', 'T1L'])"
   ]
  },
  {
   "cell_type": "code",
   "execution_count": 15,
   "id": "planned-characteristic",
   "metadata": {},
   "outputs": [],
   "source": [
    "t1l_p20_data.to_csv(\"./../../../csvs_github/t1l_gsdmd_all.csv\")"
   ]
  },
  {
   "cell_type": "code",
   "execution_count": 16,
   "id": "stable-template",
   "metadata": {},
   "outputs": [],
   "source": [
    "t1l_p20_data[t1l_p20_data[\"Sex\"].isin([\"Male\"])].to_csv(\"./../../../csvs_github/t1l_gsdmd_male.csv\")\n",
    "t1l_p20_data[t1l_p20_data[\"Sex\"].isin([\"Female\"])].to_csv(\"./../../../csvs_github/t1l_gsdmd_female.csv\")"
   ]
  },
  {
   "cell_type": "code",
   "execution_count": 160,
   "id": "expired-click",
   "metadata": {},
   "outputs": [
    {
     "name": "stderr",
     "output_type": "stream",
     "text": [
      "No handles with labels found to put in legend.\n"
     ]
    },
    {
     "name": "stdout",
     "output_type": "stream",
     "text": [
      "p-value annotation legend:\n",
      "      ns: p <= 1.00e+00\n",
      "       *: 1.00e-02 < p <= 5.00e-02\n",
      "      **: 1.00e-03 < p <= 1.00e-02\n",
      "     ***: 1.00e-04 < p <= 1.00e-03\n",
      "    ****: p <= 1.00e-04\n",
      "\n",
      "Mock vs. T1L: Mann-Whitney-Wilcoxon test two-sided, P_val:1.667e-02 U_stat=0.000e+00\n"
     ]
    },
    {
     "data": {
      "image/png": "[encoded data removed]",
      "text/plain": [
       "<Figure size 64.8x86.4 with 1 Axes>"
      ]
     },
     "metadata": {
      "needs_background": "light"
     },
     "output_type": "display_data"
    }
   ],
   "source": [
    "t1l_p20_data = t1l_p20_data[t1l_p20_data[\"Sex\"].isin([\"Male\"])]\n",
    "fig, ax = plt.subplots(figsize=(0.9, 1.2))\n",
    "plt.rc('font', size=6)\n",
    "ax.set_axisbelow(True)\n",
    "plt.grid(False)\n",
    "ax.tick_params(axis='y', which='major', pad=0)\n",
    "ax.tick_params(axis='x', which='major', pad=2)\n",
    "sns.stripplot(data = t1l_p20_data, y= \"Percent\", x = \"Condition\", size=2.0, color = \"black\", ax=ax)\n",
    "sns.boxplot(data = t1l_p20_data, y= \"Percent\", x = \"Condition\", linewidth = 0.5, fliersize = 1.0, ax=ax)\n",
    "ax.set_xticklabels(ax.get_xticklabels(), rotation=0, horizontalalignment='center')\n",
    "plt.legend(ncol=1, prop={'size': 6}, handletextpad=0.5, markerscale = 0.6, frameon = False, labelspacing = 0.2, bbox_to_anchor = (1.0,1.0))\n",
    "plt.tight_layout()\n",
    "pairs=[(\"Mock\", \"T1L\")]\n",
    "plt.margins(x=0, y=0)\n",
    "plt.xlabel(\"Condition\", labelpad=2)\n",
    "plt.ylabel(\"Percent of tissue\", labelpad=0)\n",
    "annotator = Annotator(ax, pairs, data=t1l_p20_data, x=\"Condition\", y=\"Percent\")\n",
    "annotator.configure(test='Mann-Whitney', text_format='star', loc='inside', text_offset = -2, line_offset = -2, line_width = 0.5, line_height = 0.05, line_offset_to_group = 0)\n",
    "annotator.apply_and_annotate()\n",
    "# plt.show()\n",
    "plt.savefig(\"figures/imaging_gsdmd_wt_male.pdf\", facecolor='w', edgecolor='w',\n",
    "        orientation='potrait', format=\"pdf\",\n",
    "        transparent=True, metadata=None)"
   ]
  },
  {
   "cell_type": "code",
   "execution_count": 17,
   "id": "interstate-programming",
   "metadata": {},
   "outputs": [],
   "source": [
    "t1l_p20_data = pd.read_csv(\"./../../../../MouseInfectionImages/IF06192022/slide_6_647/Summary.csv\")\n",
    "t1l_p20_data.index = [x.split(\"-TR\")[0] for x in t1l_p20_data[\"Slice\"]]\n",
    "t1l_p20_area = pd.read_csv(\"./../../../../MouseInfectionImages/IF06192022/slide_6_area/Summary.csv\")\n",
    "t1l_p20_area.index =  [x.split(\"-TR\")[0] for x in t1l_p20_area[\"Slice\"]]\n",
    "t1l_p20_data[\"Tissue Area\"] = t1l_p20_area[\"Total Area\"]\n",
    "t1l_p20_data[\"Condition\"] = t1l_p20_area[\"Condition\"]\n",
    "t1l_p20_data[\"Sex\"] = t1l_p20_area[\"Sex\"]\n",
    "t1l_p20_data[\"Percent\"] = (t1l_p20_data[\"Total Area\"]/ t1l_p20_data[\"Tissue Area\"])  * 100\n",
    "t1l_p20_data[\"Condition\"] = t1l_p20_data[\"Condition\"].astype(\"category\")\n",
    "t1l_p20_data[\"Condition\"] = t1l_p20_data[\"Condition\"].cat.reorder_categories(['Mock', 'T1L'])"
   ]
  },
  {
   "cell_type": "code",
   "execution_count": 20,
   "id": "baking-batman",
   "metadata": {},
   "outputs": [],
   "source": [
    "t1l_p20_data.to_csv(\"./../../../csvs_github/t1l_casp1_all.csv\")"
   ]
  },
  {
   "cell_type": "code",
   "execution_count": 21,
   "id": "forbidden-attention",
   "metadata": {},
   "outputs": [],
   "source": [
    "t1l_p20_data[t1l_p20_data[\"Sex\"].isin([\"Male\"])].to_csv(\"./../../../csvs_github/t1l_casp1_male.csv\")\n",
    "t1l_p20_data[t1l_p20_data[\"Sex\"].isin([\"Female\"])].to_csv(\"./../../../csvs_github/t1l_casp1_female.csv\")"
   ]
  },
  {
   "cell_type": "code",
   "execution_count": 231,
   "id": "attended-logistics",
   "metadata": {},
   "outputs": [
    {
     "name": "stderr",
     "output_type": "stream",
     "text": [
      "No handles with labels found to put in legend.\n"
     ]
    },
    {
     "name": "stdout",
     "output_type": "stream",
     "text": [
      "p-value annotation legend:\n",
      "      ns: p <= 1.00e+00\n",
      "       *: 1.00e-02 < p <= 5.00e-02\n",
      "      **: 1.00e-03 < p <= 1.00e-02\n",
      "     ***: 1.00e-04 < p <= 1.00e-03\n",
      "    ****: p <= 1.00e-04\n",
      "\n",
      "Mock vs. T1L: Mann-Whitney-Wilcoxon test two-sided, P_val:2.381e-02 U_stat=0.000e+00\n"
     ]
    },
    {
     "data": {
      "image/png": "[encoded data removed]",
      "text/plain": [
       "<Figure size 64.8x86.4 with 1 Axes>"
      ]
     },
     "metadata": {
      "needs_background": "light"
     },
     "output_type": "display_data"
    }
   ],
   "source": [
    "t1l_p20_data = t1l_p20_data[t1l_p20_data[\"Sex\"].isin([\"Male\"])]\n",
    "fig, ax = plt.subplots(figsize=(0.9, 1.2))\n",
    "plt.rc('font', size=6)\n",
    "ax.set_axisbelow(True)\n",
    "plt.grid(False)\n",
    "ax.tick_params(axis='y', which='major', pad=0)\n",
    "ax.tick_params(axis='x', which='major', pad=2)\n",
    "sns.stripplot(data = t1l_p20_data, y= \"Percent\", x = \"Condition\", size=2.0, color = \"black\", ax=ax)\n",
    "sns.boxplot(data = t1l_p20_data, y= \"Percent\", x = \"Condition\", linewidth = 0.5, fliersize = 1.0, ax=ax)\n",
    "ax.set_xticklabels(ax.get_xticklabels(), rotation=0, horizontalalignment='center')\n",
    "plt.legend(ncol=1, prop={'size': 6}, handletextpad=0.5, markerscale = 0.6, frameon = False, labelspacing = 0.2, bbox_to_anchor = (1.0,1.0))\n",
    "plt.tight_layout()\n",
    "pairs=[(\"Mock\", \"T1L\")]\n",
    "plt.margins(x=0, y=0)\n",
    "plt.xlabel(\"Condition\", labelpad=2)\n",
    "plt.ylabel(\"Percent of tissue\", labelpad=0)\n",
    "annotator = Annotator(ax, pairs, data=t1l_p20_data, x=\"Condition\", y=\"Percent\")\n",
    "annotator.configure(test='Mann-Whitney', text_format='star', loc='inside', text_offset = -2, line_offset = -2, line_width = 0.5, line_height = 0.05, line_offset_to_group = 0)\n",
    "annotator.apply_and_annotate()\n",
    "# plt.show()\n",
    "plt.savefig(\"figures/imaging_Casp1_wt_male.pdf\", facecolor='w', edgecolor='w',\n",
    "        orientation='potrait', format=\"pdf\",\n",
    "        transparent=True, metadata=None)"
   ]
  },
  {
   "cell_type": "code",
   "execution_count": 243,
   "id": "juvenile-assets",
   "metadata": {},
   "outputs": [
    {
     "name": "stderr",
     "output_type": "stream",
     "text": [
      "No handles with labels found to put in legend.\n"
     ]
    },
    {
     "name": "stdout",
     "output_type": "stream",
     "text": [
      "p-value annotation legend:\n",
      "      ns: p <= 1.00e+00\n",
      "       *: 1.00e-02 < p <= 5.00e-02\n",
      "      **: 1.00e-03 < p <= 1.00e-02\n",
      "     ***: 1.00e-04 < p <= 1.00e-03\n",
      "    ****: p <= 1.00e-04\n",
      "\n",
      "Mock vs. T1L: Mann-Whitney-Wilcoxon test two-sided, P_val:1.667e-02 U_stat=0.000e+00\n"
     ]
    },
    {
     "data": {
      "image/png": "[encoded data removed]",
      "text/plain": [
       "<Figure size 64.8x86.4 with 1 Axes>"
      ]
     },
     "metadata": {
      "needs_background": "light"
     },
     "output_type": "display_data"
    }
   ],
   "source": [
    "t1l_p20_data = t1l_p20_data[t1l_p20_data[\"Sex\"].isin([\"Female\"])]\n",
    "fig, ax = plt.subplots(figsize=(0.9, 1.2))\n",
    "plt.rc('font', size=6)\n",
    "ax.set_axisbelow(True)\n",
    "plt.grid(False)\n",
    "ax.tick_params(axis='y', which='major', pad=0)\n",
    "ax.tick_params(axis='x', which='major', pad=2)\n",
    "sns.stripplot(data = t1l_p20_data, y= \"Percent\", x = \"Condition\", size=2.0, color = \"black\", ax=ax)\n",
    "sns.boxplot(data = t1l_p20_data, y= \"Percent\", x = \"Condition\", linewidth = 0.5, fliersize = 1.0, ax=ax)\n",
    "ax.set_xticklabels(ax.get_xticklabels(), rotation=0, horizontalalignment='center')\n",
    "plt.legend(ncol=1, prop={'size': 6}, handletextpad=0.5, markerscale = 0.6, frameon = False, labelspacing = 0.2, bbox_to_anchor = (1.0,1.0))\n",
    "plt.tight_layout()\n",
    "pairs=[(\"Mock\", \"T1L\")]\n",
    "plt.margins(x=0, y=0)\n",
    "plt.xlabel(\"Condition\", labelpad=2)\n",
    "plt.ylabel(\"Percent of tissue\", labelpad=0)\n",
    "annotator = Annotator(ax, pairs, data=t1l_p20_data, x=\"Condition\", y=\"Percent\")\n",
    "annotator.configure(test='Mann-Whitney', text_format='star', loc='inside', text_offset = -2, line_offset = -2, line_width = 0.5, line_height = 0.05, line_offset_to_group = 0)\n",
    "annotator.apply_and_annotate()\n",
    "# plt.show()\n",
    "plt.savefig(\"figures/imaging_Casp1_wt_female.pdf\", facecolor='w', edgecolor='w',\n",
    "        orientation='potrait', format=\"pdf\",\n",
    "        transparent=True, metadata=None)"
   ]
  },
  {
   "cell_type": "code",
   "execution_count": null,
   "id": "distinct-latin",
   "metadata": {},
   "outputs": [],
   "source": []
  },
  {
   "cell_type": "code",
   "execution_count": 29,
   "id": "original-encoding",
   "metadata": {},
   "outputs": [],
   "source": [
    "Tcell_data = pd.read_csv(\"./../../../../MouseInfectionImages/IF06192022/slide_15_488_546_647/Summary.csv\")\n",
    "Tcell_data.index = [x.split(\"-TR\")[0] for x in Tcell_data[\"Slice\"]]\n",
    "Tcell_data[\"Channel\"] = [x.split(\"_stitch_stitch_\")[1].split(\".\")[0] for x in Tcell_data[\"Slice\"]]\n",
    "Tcell_total = pd.read_csv(\"./../../../../MouseInfectionImages/IF06192022/slide_14_15_DAPI_images/Summary_final.csv\")\n",
    "Tcell_total.index =  [x.split(\"-TR\")[0] for x in Tcell_total[\"Slice\"]]\n",
    "Tcell_data[\"Total\"] = Tcell_total[\"Count\"]\n",
    "Tcell_data[\"Condition\"] = Tcell_total[\"Condition\"]\n",
    "Tcell_data[\"Sex\"] = Tcell_total[\"Sex\"]\n",
    "Tcell_data[\"Percent\"] = (Tcell_data[\"Count\"]/ Tcell_data[\"Total\"])  * 100\n",
    "Tcell_data[\"Condition\"] = Tcell_data[\"Condition\"].astype(\"category\")\n",
    "Tcell_data[\"Condition\"] = Tcell_data[\"Condition\"].cat.reorder_categories(['Mock', 'T1L'])\n",
    "Tcell_data = Tcell_data[Tcell_data[\"Channel\"].isin([\"AF647\"])]\n",
    "Tcell_data = Tcell_data.rename(columns={\"Count\": \"Prf1_counts\"})"
   ]
  },
  {
   "cell_type": "code",
   "execution_count": 30,
   "id": "mechanical-oxygen",
   "metadata": {},
   "outputs": [],
   "source": [
    "Tcell_data_male = Tcell_data[Tcell_data[\"Sex\"].isin([\"Male\"])]\n",
    "Tcell_data_female = Tcell_data[Tcell_data[\"Sex\"].isin([\"Female\"])]"
   ]
  },
  {
   "cell_type": "code",
   "execution_count": 33,
   "id": "confirmed-jimmy",
   "metadata": {},
   "outputs": [],
   "source": [
    "Tcell_data_male.to_csv(\"./../../../csvs_github/t1l_prf1_male.csv\")\n",
    "Tcell_data_female.to_csv(\"./../../../csvs_github/t1l_prf1_female.csv\")"
   ]
  },
  {
   "cell_type": "code",
   "execution_count": 28,
   "id": "twenty-seller",
   "metadata": {},
   "outputs": [
    {
     "name": "stderr",
     "output_type": "stream",
     "text": [
      "No handles with labels found to put in legend.\n"
     ]
    },
    {
     "name": "stdout",
     "output_type": "stream",
     "text": [
      "p-value annotation legend:\n",
      "      ns: p <= 1.00e+00\n",
      "       *: 1.00e-02 < p <= 5.00e-02\n",
      "      **: 1.00e-03 < p <= 1.00e-02\n",
      "     ***: 1.00e-04 < p <= 1.00e-03\n",
      "    ****: p <= 1.00e-04\n",
      "\n",
      "Mock vs. T1L: Mann-Whitney-Wilcoxon test two-sided, P_val:1.667e-02 U_stat=0.000e+00\n"
     ]
    },
    {
     "data": {
      "image/png": "[encoded data removed]",
      "text/plain": [
       "<Figure size 68.4x86.4 with 1 Axes>"
      ]
     },
     "metadata": {
      "needs_background": "light"
     },
     "output_type": "display_data"
    }
   ],
   "source": [
    "fig, ax = plt.subplots(figsize=(0.95, 1.2))\n",
    "plt.rc('font', size=6)\n",
    "ax.set_axisbelow(True)\n",
    "plt.grid(False)\n",
    "ax.tick_params(axis='y', which='major', pad=0)\n",
    "ax.tick_params(axis='x', which='major', pad=2)\n",
    "sns.stripplot(data = Tcell_data_male, y= \"Percent\", x = \"Condition\", size=2.0, color = \"black\", ax=ax)\n",
    "sns.boxplot(data = Tcell_data_male, y= \"Percent\", x = \"Condition\", linewidth = 0.5, fliersize = 1.0, ax=ax)\n",
    "ax.set_xticklabels(ax.get_xticklabels(), rotation=0, horizontalalignment='center')\n",
    "plt.legend(ncol=1, prop={'size': 6}, handletextpad=0.5, markerscale = 0.6, frameon = False, labelspacing = 0.2, bbox_to_anchor = (1.0,1.0))\n",
    "plt.tight_layout()\n",
    "pairs=[(\"Mock\", \"T1L\")]\n",
    "plt.margins(x=0, y=0)\n",
    "plt.xlabel(\"Condition\", labelpad=2)\n",
    "plt.ylabel(\"Percent of Prf1+ cells\", labelpad=0)\n",
    "annotator = Annotator(ax, pairs, data=Tcell_data_male, x=\"Condition\", y=\"Percent\")\n",
    "annotator.configure(test='Mann-Whitney', text_format='star', loc='inside', text_offset = -2, line_offset = -2, line_width = 0.5, line_height = 0.05, line_offset_to_group = 0)\n",
    "annotator.apply_and_annotate()\n",
    "# plt.show()\n",
    "plt.savefig(\"figures/imaging_prf1_wt_male.pdf\", facecolor='w', edgecolor='w',\n",
    "        orientation='potrait', format=\"pdf\",\n",
    "        transparent=True, metadata=None)"
   ]
  },
  {
   "cell_type": "code",
   "execution_count": 34,
   "id": "loving-driver",
   "metadata": {},
   "outputs": [
    {
     "name": "stderr",
     "output_type": "stream",
     "text": [
      "No handles with labels found to put in legend.\n"
     ]
    },
    {
     "name": "stdout",
     "output_type": "stream",
     "text": [
      "p-value annotation legend:\n",
      "      ns: p <= 1.00e+00\n",
      "       *: 1.00e-02 < p <= 5.00e-02\n",
      "      **: 1.00e-03 < p <= 1.00e-02\n",
      "     ***: 1.00e-04 < p <= 1.00e-03\n",
      "    ****: p <= 1.00e-04\n",
      "\n",
      "Mock vs. T1L: Mann-Whitney-Wilcoxon test two-sided, P_val:1.667e-02 U_stat=0.000e+00\n"
     ]
    },
    {
     "data": {
      "image/png": "[encoded data removed]",
      "text/plain": [
       "<Figure size 68.4x86.4 with 1 Axes>"
      ]
     },
     "metadata": {
      "needs_background": "light"
     },
     "output_type": "display_data"
    }
   ],
   "source": [
    "fig, ax = plt.subplots(figsize=(0.95, 1.2))\n",
    "plt.rc('font', size=6)\n",
    "ax.set_axisbelow(True)\n",
    "plt.grid(False)\n",
    "ax.tick_params(axis='y', which='major', pad=0)\n",
    "ax.tick_params(axis='x', which='major', pad=2)\n",
    "sns.stripplot(data = Tcell_data_female, y= \"Percent\", x = \"Condition\", size=2.0, color = \"black\", ax=ax)\n",
    "sns.boxplot(data = Tcell_data_female, y= \"Percent\", x = \"Condition\", linewidth = 0.5, fliersize = 1.0, ax=ax)\n",
    "ax.set_xticklabels(ax.get_xticklabels(), rotation=0, horizontalalignment='center')\n",
    "plt.legend(ncol=1, prop={'size': 6}, handletextpad=0.5, markerscale = 0.6, frameon = False, labelspacing = 0.2, bbox_to_anchor = (1.0,1.0))\n",
    "plt.tight_layout()\n",
    "pairs=[(\"Mock\", \"T1L\")]\n",
    "plt.margins(x=0, y=0)\n",
    "plt.xlabel(\"Condition\", labelpad=2)\n",
    "plt.ylabel(\"Percent of Prf1+ cells\", labelpad=0)\n",
    "annotator = Annotator(ax, pairs, data=Tcell_data_female, x=\"Condition\", y=\"Percent\")\n",
    "annotator.configure(test='Mann-Whitney', text_format='star', loc='inside', text_offset = -2, line_offset = -2, line_width = 0.5, line_height = 0.05, line_offset_to_group = 0)\n",
    "annotator.apply_and_annotate()\n",
    "# plt.show()\n",
    "plt.savefig(\"figures/imaging_prf1_wt_female.pdf\", facecolor='w', edgecolor='w',\n",
    "        orientation='potrait', format=\"pdf\",\n",
    "        transparent=True, metadata=None)"
   ]
  },
  {
   "cell_type": "code",
   "execution_count": 35,
   "id": "missing-reducing",
   "metadata": {},
   "outputs": [],
   "source": [
    "cxcl9_data = pd.read_csv(\"./../../../../MouseInfectionImages/IF06192022/slide_14_647/Summary.csv\")\n",
    "cxcl9_data.index = [x.split(\"-TR\")[0] for x in cxcl9_data[\"Slice\"]]\n",
    "cxcl9_data[\"Channel\"] = [x.split(\"_stitch_stitch_\")[1].split(\".\")[0] for x in cxcl9_data[\"Slice\"]]\n",
    "cxcl9_total = pd.read_csv(\"./../../../../MouseInfectionImages/IF06192022/slide_14_15_DAPI_images/Summary_final.csv\")\n",
    "cxcl9_total.index =  [x.split(\"-TR\")[0] for x in cxcl9_total[\"Slice\"]]\n",
    "cxcl9_data[\"Total\"] = cxcl9_total[\"Count\"]\n",
    "cxcl9_data[\"Condition\"] = cxcl9_total[\"Condition\"]\n",
    "cxcl9_data[\"Sex\"] = cxcl9_total[\"Sex\"]\n",
    "cxcl9_data[\"Percent\"] = (cxcl9_data[\"Count\"]/ cxcl9_data[\"Total\"])  * 100\n",
    "cxcl9_data[\"Condition\"] = cxcl9_data[\"Condition\"].astype(\"category\")\n",
    "cxcl9_data[\"Condition\"] = cxcl9_data[\"Condition\"].cat.reorder_categories(['Mock', 'T1L'])\n",
    "cxcl9_data = cxcl9_data[cxcl9_data[\"Channel\"].isin([\"AF647\"])]\n",
    "cxcl9_data = cxcl9_data.rename(columns={\"Count\": \"Cxcl9_counts\"})"
   ]
  },
  {
   "cell_type": "code",
   "execution_count": 36,
   "id": "executive-spokesman",
   "metadata": {},
   "outputs": [],
   "source": [
    "cxcl9_data_male = cxcl9_data[cxcl9_data[\"Sex\"].isin([\"Male\"])]\n",
    "cxcl9_data_female = cxcl9_data[cxcl9_data[\"Sex\"].isin([\"Female\"])]"
   ]
  },
  {
   "cell_type": "code",
   "execution_count": 38,
   "id": "coated-marshall",
   "metadata": {},
   "outputs": [],
   "source": [
    "cxcl9_data_male.to_csv(\"./../../../csvs_github/t1l_cxcl9_male.csv\")\n",
    "cxcl9_data_female.to_csv(\"./../../../csvs_github/t1l_cxcl9_female.csv\")"
   ]
  },
  {
   "cell_type": "code",
   "execution_count": 238,
   "id": "thrown-death",
   "metadata": {},
   "outputs": [
    {
     "name": "stderr",
     "output_type": "stream",
     "text": [
      "No handles with labels found to put in legend.\n"
     ]
    },
    {
     "name": "stdout",
     "output_type": "stream",
     "text": [
      "p-value annotation legend:\n",
      "      ns: p <= 1.00e+00\n",
      "       *: 1.00e-02 < p <= 5.00e-02\n",
      "      **: 1.00e-03 < p <= 1.00e-02\n",
      "     ***: 1.00e-04 < p <= 1.00e-03\n",
      "    ****: p <= 1.00e-04\n",
      "\n",
      "Mock vs. T1L: Mann-Whitney-Wilcoxon test two-sided, P_val:2.560e-02 U_stat=0.000e+00\n"
     ]
    },
    {
     "data": {
      "image/png": "[encoded data removed]",
      "text/plain": [
       "<Figure size 68.4x86.4 with 1 Axes>"
      ]
     },
     "metadata": {
      "needs_background": "light"
     },
     "output_type": "display_data"
    }
   ],
   "source": [
    "fig, ax = plt.subplots(figsize=(0.95, 1.2))\n",
    "plt.rc('font', size=6)\n",
    "ax.set_axisbelow(True)\n",
    "plt.grid(False)\n",
    "ax.tick_params(axis='y', which='major', pad=0)\n",
    "ax.tick_params(axis='x', which='major', pad=2)\n",
    "sns.stripplot(data = cxcl9_data, y= \"Percent\", x = \"Condition\", size=2.0, color = \"black\", ax=ax)\n",
    "sns.boxplot(data = cxcl9_data, y= \"Percent\", x = \"Condition\", linewidth = 0.5, fliersize = 1.0, ax=ax)\n",
    "ax.set_xticklabels(ax.get_xticklabels(), rotation=0, horizontalalignment='center')\n",
    "plt.legend(ncol=1, prop={'size': 6}, handletextpad=0.5, markerscale = 0.6, frameon = False, labelspacing = 0.2, bbox_to_anchor = (1.0,1.0))\n",
    "plt.tight_layout()\n",
    "pairs=[(\"Mock\", \"T1L\")]\n",
    "plt.margins(x=0, y=0)\n",
    "plt.xlabel(\"Condition\", labelpad=2)\n",
    "plt.ylabel(\"Percent of Cxcl9+ cells\", labelpad=0)\n",
    "annotator = Annotator(ax, pairs, data=cxcl9_data, x=\"Condition\", y=\"Percent\")\n",
    "annotator.configure(test='Mann-Whitney', text_format='star', loc='inside', text_offset = -2, line_offset = -2, line_width = 0.5, line_height = 0.05, line_offset_to_group = 0)\n",
    "annotator.apply_and_annotate()\n",
    "# plt.show()\n",
    "plt.savefig(\"figures/imaging_cxcl9_wt_male.pdf\", facecolor='w', edgecolor='w',\n",
    "        orientation='potrait', format=\"pdf\",\n",
    "        transparent=True, metadata=None)"
   ]
  },
  {
   "cell_type": "code",
   "execution_count": 241,
   "id": "surrounded-assets",
   "metadata": {},
   "outputs": [
    {
     "name": "stderr",
     "output_type": "stream",
     "text": [
      "No handles with labels found to put in legend.\n"
     ]
    },
    {
     "name": "stdout",
     "output_type": "stream",
     "text": [
      "p-value annotation legend:\n",
      "      ns: p <= 1.00e+00\n",
      "       *: 1.00e-02 < p <= 5.00e-02\n",
      "      **: 1.00e-03 < p <= 1.00e-02\n",
      "     ***: 1.00e-04 < p <= 1.00e-03\n",
      "    ****: p <= 1.00e-04\n",
      "\n",
      "Mock vs. T1L: Mann-Whitney-Wilcoxon test two-sided, P_val:2.104e-02 U_stat=0.000e+00\n"
     ]
    },
    {
     "data": {
      "image/png": "[encoded data removed]",
      "text/plain": [
       "<Figure size 64.8x86.4 with 1 Axes>"
      ]
     },
     "metadata": {
      "needs_background": "light"
     },
     "output_type": "display_data"
    }
   ],
   "source": [
    "fig, ax = plt.subplots(figsize=(0.90, 1.2))\n",
    "plt.rc('font', size=6)\n",
    "ax.set_axisbelow(True)\n",
    "plt.grid(False)\n",
    "ax.tick_params(axis='y', which='major', pad=0)\n",
    "ax.tick_params(axis='x', which='major', pad=2)\n",
    "sns.stripplot(data = cxcl9_data, y= \"Percent\", x = \"Condition\", size=2.0, color = \"black\", ax=ax)\n",
    "sns.boxplot(data = cxcl9_data, y= \"Percent\", x = \"Condition\", linewidth = 0.5, fliersize = 1.0, ax=ax)\n",
    "ax.set_xticklabels(ax.get_xticklabels(), rotation=0, horizontalalignment='center')\n",
    "plt.legend(ncol=1, prop={'size': 6}, handletextpad=0.5, markerscale = 0.6, frameon = False, labelspacing = 0.2, bbox_to_anchor = (1.0,1.0))\n",
    "plt.tight_layout()\n",
    "pairs=[(\"Mock\", \"T1L\")]\n",
    "plt.margins(x=0, y=0)\n",
    "plt.xlabel(\"Condition\", labelpad=2)\n",
    "plt.ylabel(\"Percent of Cxcl9+ cells\", labelpad=0)\n",
    "annotator = Annotator(ax, pairs, data=cxcl9_data, x=\"Condition\", y=\"Percent\")\n",
    "annotator.configure(test='Mann-Whitney', text_format='star', loc='inside', text_offset = -2, line_offset = -2, line_width = 0.5, line_height = 0.05, line_offset_to_group = 0)\n",
    "annotator.apply_and_annotate()\n",
    "# plt.show()\n",
    "plt.savefig(\"figures/imaging_cxcl9_wt_female.pdf\", facecolor='w', edgecolor='w',\n",
    "        orientation='potrait', format=\"pdf\",\n",
    "        transparent=True, metadata=None)"
   ]
  },
  {
   "cell_type": "code",
   "execution_count": null,
   "id": "controversial-rolling",
   "metadata": {},
   "outputs": [],
   "source": []
  }
 ],
 "metadata": {
  "kernelspec": {
   "display_name": "Python 3 (ipykernel)",
   "language": "python",
   "name": "python3"
  },
  "language_info": {
   "codemirror_mode": {
    "name": "ipython",
    "version": 3
   },
   "file_extension": ".py",
   "mimetype": "text/x-python",
   "name": "python",
   "nbconvert_exporter": "python",
   "pygments_lexer": "ipython3",
   "version": "3.8.5"
  }
 },
 "nbformat": 4,
 "nbformat_minor": 5
}
