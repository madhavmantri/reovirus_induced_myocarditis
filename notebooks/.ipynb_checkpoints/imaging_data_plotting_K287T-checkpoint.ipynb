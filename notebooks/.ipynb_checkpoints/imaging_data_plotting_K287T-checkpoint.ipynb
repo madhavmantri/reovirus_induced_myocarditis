{
 "cells": [
  {
   "cell_type": "code",
   "execution_count": 282,
   "id": "collected-rebecca",
   "metadata": {},
   "outputs": [],
   "source": [
    "import numpy as np\n",
    "import pandas as pd\n",
    "import matplotlib.pyplot as plt\n",
    "import seaborn as sns\n",
    "from statannotations.Annotator import Annotator"
   ]
  },
  {
   "cell_type": "code",
   "execution_count": 300,
   "id": "handled-messenger",
   "metadata": {},
   "outputs": [
    {
     "name": "stderr",
     "output_type": "stream",
     "text": [
      "<ipython-input-300-a92e6a937327>:15: FutureWarning: The `inplace` parameter in pandas.Categorical.reorder_categories is deprecated and will be removed in a future version. Reordering categories will always return a new Categorical object.\n",
      "  reovirus_data_final[\"Condition\"].cat.reorder_categories(new_categories=[\"Mock\", \"T1L\",  \"K287T\"], inplace = True)\n"
     ]
    }
   ],
   "source": [
    "reovirus_data_mock = pd.read_csv(\"./../../../../MouseInfectionImages/Mock/Summary_if_reovirus.csv\", index_col=0)\n",
    "reovirus_data_T1L = pd.read_csv(\"./../../../../MouseInfectionImages/T1L/Summary_if_reovirus.csv\", index_col=0)\n",
    "reovirus_data_K287T = pd.read_csv(\"./../../../../MouseInfectionImages/K287T/Summary_if_reovirus.csv\", index_col=0)\n",
    "reovirus_data = pd.concat([reovirus_data_mock, reovirus_data_T1L, reovirus_data_K287T]).drop_duplicates(subset =\"Label\")\n",
    "reovirus_data[\"Condition\"] = [x.split(\"-\")[0].split(\"_\")[0] for x in reovirus_data[\"Label\"]]\n",
    "reovirus_data[\"Measurement\"] = [x.split(\":\")[1] for x in reovirus_data[\"Label\"]]\n",
    "reovirus_data_measurement = reovirus_data[reovirus_data[\"Measurement\"].isin([\"reovirus\"])]\n",
    "reovirus_data_total = reovirus_data[reovirus_data[\"Measurement\"].isin([\"total\"])]\n",
    "reovirus_data_final = reovirus_data_measurement\n",
    "reovirus_data_final = reovirus_data_final.rename(columns = {\"Area\": \"ReovirusArea\"})\n",
    "reovirus_data_final = reovirus_data_final.rename(columns = {\"Mean\": \"MeanIntensity\"})\n",
    "reovirus_data_final[\"TotalArea\"] = reovirus_data_total[\"Area\"].to_numpy()\n",
    "reovirus_data_final[\"Percent\"] = (reovirus_data_final[\"ReovirusArea\"].to_numpy()/ reovirus_data_final[\"TotalArea\"].to_numpy()) * 100\n",
    "reovirus_data_final[\"Condition\"] = reovirus_data_final[\"Condition\"].astype(\"category\")\n",
    "reovirus_data_final[\"Condition\"].cat.reorder_categories(new_categories=[\"Mock\", \"T1L\",  \"K287T\"], inplace = True)\n",
    "reovirus_data_final.to_csv(\"./../../../csvs_github/reovirus_IF_data.csv\")"
   ]
  },
  {
   "cell_type": "code",
   "execution_count": 301,
   "id": "documented-bundle",
   "metadata": {
    "scrolled": true
   },
   "outputs": [
    {
     "name": "stderr",
     "output_type": "stream",
     "text": [
      "No handles with labels found to put in legend.\n"
     ]
    },
    {
     "name": "stdout",
     "output_type": "stream",
     "text": [
      "p-value annotation legend:\n",
      "      ns: p <= 1.00e+00\n",
      "       *: 1.00e-02 < p <= 5.00e-02\n",
      "      **: 1.00e-03 < p <= 1.00e-02\n",
      "     ***: 1.00e-04 < p <= 1.00e-03\n",
      "    ****: p <= 1.00e-04\n",
      "\n",
      "T1L vs. K287T: Mann-Whitney-Wilcoxon test two-sided, P_val:2.857e-02 U_stat=1.600e+01\n"
     ]
    },
    {
     "data": {
      "image/png": "[encoded data removed]",
      "text/plain": [
       "<Figure size 86.4x86.4 with 1 Axes>"
      ]
     },
     "metadata": {
      "needs_background": "light"
     },
     "output_type": "display_data"
    }
   ],
   "source": [
    "fig, ax = plt.subplots(figsize=(1.2, 1.2))\n",
    "plt.rc('font', size=6)\n",
    "ax.set_axisbelow(True)\n",
    "ax.tick_params(axis='y', which='major', pad=0)\n",
    "ax.tick_params(axis='x', which='major', pad=2)\n",
    "plt.grid(False)\n",
    "sns.stripplot(data = reovirus_data_final, y= \"Percent\", x = \"Condition\", size=2.0, color = \"black\", ax=ax)\n",
    "sns.boxplot(data = reovirus_data_final, y= \"Percent\", x = \"Condition\", linewidth = 1.0,  fliersize= 0.0, width=0.5, ax=ax)\n",
    "ax.set_xticklabels(ax.get_xticklabels(), rotation=0, horizontalalignment='center')\n",
    "plt.legend(ncol=1, prop={'size': 6}, handletextpad=0.5, markerscale = 0.6, frameon = False, labelspacing = 0.2, bbox_to_anchor = (1.0,1.0))\n",
    "plt.tight_layout()\n",
    "plt.margins(x=0, y=0)\n",
    "plt.xlabel(\"Condition\", labelpad=2)\n",
    "plt.ylabel(\"Percent of tissue\", labelpad=0)\n",
    "pairs=[(\"T1L\", \"K287T\")]\n",
    "annotator = Annotator(ax, pairs, data=reovirus_data_final, x=\"Condition\", y=\"Percent\")\n",
    "annotator.configure(test='Mann-Whitney', text_format='star', loc='inside', text_offset = -2, line_offset = -2, line_width = 0.5, line_height = 0.05, line_offset_to_group = 0)\n",
    "annotator.apply_and_annotate()\n",
    "# plt.show()\n",
    "plt.savefig(\"figures/imaging_IF_reovirus_area.pdf\", facecolor='w', edgecolor='w',\n",
    "        orientation='potrait', format=\"pdf\",\n",
    "        transparent=True, metadata=None)"
   ]
  },
  {
   "cell_type": "code",
   "execution_count": 304,
   "id": "parliamentary-solution",
   "metadata": {
    "scrolled": true
   },
   "outputs": [
    {
     "name": "stderr",
     "output_type": "stream",
     "text": [
      "No handles with labels found to put in legend.\n"
     ]
    },
    {
     "name": "stdout",
     "output_type": "stream",
     "text": [
      "p-value annotation legend:\n",
      "      ns: p <= 1.00e+00\n",
      "       *: 1.00e-02 < p <= 5.00e-02\n",
      "      **: 1.00e-03 < p <= 1.00e-02\n",
      "     ***: 1.00e-04 < p <= 1.00e-03\n",
      "    ****: p <= 1.00e-04\n",
      "\n",
      "T1L vs. K287T: Mann-Whitney-Wilcoxon test two-sided, P_val:2.857e-02 U_stat=1.600e+01\n"
     ]
    },
    {
     "data": {
      "image/png": "[encoded data removed]",
      "text/plain": [
       "<Figure size 64.8x86.4 with 1 Axes>"
      ]
     },
     "metadata": {
      "needs_background": "light"
     },
     "output_type": "display_data"
    }
   ],
   "source": [
    "reovirus_data_final = reovirus_data_final[reovirus_data_final[\"Condition\"].isin([\"T1L\", \"K287T\"])]\n",
    "fig, ax = plt.subplots(figsize=(0.9, 1.2))\n",
    "plt.rc('font', size=6)\n",
    "ax.tick_params(axis='y', which='major', pad=0)\n",
    "ax.tick_params(axis='x', which='major', pad=2)\n",
    "ax.set_axisbelow(True)\n",
    "plt.grid(False)\n",
    "sns.stripplot(data = reovirus_data_final, y= \"MeanIntensity\", x = \"Condition\", size=2.0, color = \"black\", ax=ax)\n",
    "sns.boxplot(data = reovirus_data_final, y= \"MeanIntensity\", x = \"Condition\", linewidth = 1.0,  fliersize= 0.0, width=0.5, ax=ax)\n",
    "ax.set_xticklabels(ax.get_xticklabels(), rotation=0, horizontalalignment='center')\n",
    "plt.legend(ncol=1, prop={'size': 6}, handletextpad=0.5, markerscale = 0.6, frameon = False, labelspacing = 0.2, bbox_to_anchor = (1.0,1.0))\n",
    "plt.margins(x=0, y=0)\n",
    "plt.xlabel(\"Condition\", labelpad=2)\n",
    "plt.ylabel(\"Mean intensity\", labelpad=0)\n",
    "plt.tight_layout()\n",
    "pairs=[(\"T1L\", \"K287T\")]\n",
    "annotator = Annotator(ax, pairs, data=reovirus_data_final, x=\"Condition\", y=\"MeanIntensity\")\n",
    "annotator.configure(test='Mann-Whitney', text_format='star', loc='inside', text_offset = -2, line_offset = -2, line_width = 0.5, line_height = 0.05, line_offset_to_group = 0)\n",
    "annotator.apply_and_annotate()\n",
    "# plt.show()\n",
    "plt.savefig(\"figures/imaging_IF_reovirus_intensity.pdf\", facecolor='w', edgecolor='w',\n",
    "        orientation='potrait', format=\"pdf\",\n",
    "        transparent=True, metadata=None)"
   ]
  },
  {
   "cell_type": "code",
   "execution_count": 82,
   "id": "healthy-juvenile",
   "metadata": {},
   "outputs": [
    {
     "data": {
      "text/html": [
       "<div>\n",
       "<style scoped>\n",
       "    .dataframe tbody tr th:only-of-type {\n",
       "        vertical-align: middle;\n",
       "    }\n",
       "\n",
       "    .dataframe tbody tr th {\n",
       "        vertical-align: top;\n",
       "    }\n",
       "\n",
       "    .dataframe thead th {\n",
       "        text-align: right;\n",
       "    }\n",
       "</style>\n",
       "<table border=\"1\" class=\"dataframe\">\n",
       "  <thead>\n",
       "    <tr style=\"text-align: right;\">\n",
       "      <th></th>\n",
       "      <th>Label</th>\n",
       "      <th>Area</th>\n",
       "      <th>Mean</th>\n",
       "      <th>Min</th>\n",
       "      <th>Max</th>\n",
       "      <th>IntDen</th>\n",
       "      <th>RawIntDen</th>\n",
       "      <th>Condition</th>\n",
       "      <th>Measurement</th>\n",
       "      <th>Percent</th>\n",
       "    </tr>\n",
       "    <tr>\n",
       "      <th></th>\n",
       "      <th></th>\n",
       "      <th></th>\n",
       "      <th></th>\n",
       "      <th></th>\n",
       "      <th></th>\n",
       "      <th></th>\n",
       "      <th></th>\n",
       "      <th></th>\n",
       "      <th></th>\n",
       "      <th></th>\n",
       "    </tr>\n",
       "  </thead>\n",
       "  <tbody>\n",
       "    <tr>\n",
       "      <th>1</th>\n",
       "      <td>Mock-Set1_slide9_heart1_stitch_stitch_stitch_c...</td>\n",
       "      <td>0.227</td>\n",
       "      <td>78.821</td>\n",
       "      <td>50</td>\n",
       "      <td>91</td>\n",
       "      <td>17.907</td>\n",
       "      <td>1611648.0</td>\n",
       "      <td>Mock</td>\n",
       "      <td>casp1</td>\n",
       "      <td>0.017520</td>\n",
       "    </tr>\n",
       "    <tr>\n",
       "      <th>2</th>\n",
       "      <td>Mock-Set1_slide9_heart2_stitch_stitch_stitch_c...</td>\n",
       "      <td>0.589</td>\n",
       "      <td>70.753</td>\n",
       "      <td>50</td>\n",
       "      <td>91</td>\n",
       "      <td>41.676</td>\n",
       "      <td>3750837.0</td>\n",
       "      <td>Mock</td>\n",
       "      <td>casp1</td>\n",
       "      <td>0.030151</td>\n",
       "    </tr>\n",
       "    <tr>\n",
       "      <th>1</th>\n",
       "      <td>T1L-Set1_slide9_heart1_stitch_stitch_c3.tif:casp1</td>\n",
       "      <td>5.316</td>\n",
       "      <td>80.499</td>\n",
       "      <td>50</td>\n",
       "      <td>91</td>\n",
       "      <td>427.914</td>\n",
       "      <td>38512227.0</td>\n",
       "      <td>T1L</td>\n",
       "      <td>casp1</td>\n",
       "      <td>0.316595</td>\n",
       "    </tr>\n",
       "    <tr>\n",
       "      <th>2</th>\n",
       "      <td>T1L-Set1_slide9_heart2_stitch_stitch_stitch_c3...</td>\n",
       "      <td>5.842</td>\n",
       "      <td>74.505</td>\n",
       "      <td>0</td>\n",
       "      <td>91</td>\n",
       "      <td>435.249</td>\n",
       "      <td>39172373.0</td>\n",
       "      <td>T1L</td>\n",
       "      <td>casp1</td>\n",
       "      <td>0.308494</td>\n",
       "    </tr>\n",
       "    <tr>\n",
       "      <th>3</th>\n",
       "      <td>T1L-Set2_slide9_heart1_stitch_c3.tif:casp1</td>\n",
       "      <td>2.370</td>\n",
       "      <td>76.756</td>\n",
       "      <td>0</td>\n",
       "      <td>91</td>\n",
       "      <td>181.905</td>\n",
       "      <td>16371448.0</td>\n",
       "      <td>T1L</td>\n",
       "      <td>casp1</td>\n",
       "      <td>0.152343</td>\n",
       "    </tr>\n",
       "    <tr>\n",
       "      <th>4</th>\n",
       "      <td>T1L-Set2_slide9_heart2_stitch_c3.tif:casp1</td>\n",
       "      <td>2.080</td>\n",
       "      <td>76.396</td>\n",
       "      <td>0</td>\n",
       "      <td>91</td>\n",
       "      <td>158.870</td>\n",
       "      <td>14298320.0</td>\n",
       "      <td>T1L</td>\n",
       "      <td>casp1</td>\n",
       "      <td>0.130138</td>\n",
       "    </tr>\n",
       "    <tr>\n",
       "      <th>1</th>\n",
       "      <td>K287T_Set1_slide4_heart1_shad_shad_shad_c3.tif...</td>\n",
       "      <td>0.393</td>\n",
       "      <td>76.272</td>\n",
       "      <td>24</td>\n",
       "      <td>91</td>\n",
       "      <td>29.992</td>\n",
       "      <td>2699280.0</td>\n",
       "      <td>K287T</td>\n",
       "      <td>casp1</td>\n",
       "      <td>0.022779</td>\n",
       "    </tr>\n",
       "    <tr>\n",
       "      <th>2</th>\n",
       "      <td>K287T_Set1_slide4_heart2_shad_shad_shad_c3.tif...</td>\n",
       "      <td>0.620</td>\n",
       "      <td>75.223</td>\n",
       "      <td>5</td>\n",
       "      <td>91</td>\n",
       "      <td>46.666</td>\n",
       "      <td>4199940.0</td>\n",
       "      <td>K287T</td>\n",
       "      <td>casp1</td>\n",
       "      <td>0.042286</td>\n",
       "    </tr>\n",
       "    <tr>\n",
       "      <th>3</th>\n",
       "      <td>K287T_Set2_slide0_heart1_shad_shad_c3.tif:casp1</td>\n",
       "      <td>0.069</td>\n",
       "      <td>80.735</td>\n",
       "      <td>48</td>\n",
       "      <td>91</td>\n",
       "      <td>5.590</td>\n",
       "      <td>503141.0</td>\n",
       "      <td>K287T</td>\n",
       "      <td>casp1</td>\n",
       "      <td>0.004314</td>\n",
       "    </tr>\n",
       "    <tr>\n",
       "      <th>4</th>\n",
       "      <td>K287T_Set2_slide0_heart2_shad_shad_c3.tif:casp1</td>\n",
       "      <td>0.523</td>\n",
       "      <td>75.948</td>\n",
       "      <td>42</td>\n",
       "      <td>91</td>\n",
       "      <td>39.717</td>\n",
       "      <td>3574546.0</td>\n",
       "      <td>K287T</td>\n",
       "      <td>casp1</td>\n",
       "      <td>0.030228</td>\n",
       "    </tr>\n",
       "  </tbody>\n",
       "</table>\n",
       "</div>"
      ],
      "text/plain": [
       "                                               Label   Area    Mean  Min  Max  \\\n",
       "                                                                                \n",
       "1  Mock-Set1_slide9_heart1_stitch_stitch_stitch_c...  0.227  78.821   50   91   \n",
       "2  Mock-Set1_slide9_heart2_stitch_stitch_stitch_c...  0.589  70.753   50   91   \n",
       "1  T1L-Set1_slide9_heart1_stitch_stitch_c3.tif:casp1  5.316  80.499   50   91   \n",
       "2  T1L-Set1_slide9_heart2_stitch_stitch_stitch_c3...  5.842  74.505    0   91   \n",
       "3         T1L-Set2_slide9_heart1_stitch_c3.tif:casp1  2.370  76.756    0   91   \n",
       "4         T1L-Set2_slide9_heart2_stitch_c3.tif:casp1  2.080  76.396    0   91   \n",
       "1  K287T_Set1_slide4_heart1_shad_shad_shad_c3.tif...  0.393  76.272   24   91   \n",
       "2  K287T_Set1_slide4_heart2_shad_shad_shad_c3.tif...  0.620  75.223    5   91   \n",
       "3    K287T_Set2_slide0_heart1_shad_shad_c3.tif:casp1  0.069  80.735   48   91   \n",
       "4    K287T_Set2_slide0_heart2_shad_shad_c3.tif:casp1  0.523  75.948   42   91   \n",
       "\n",
       "    IntDen   RawIntDen Condition Measurement   Percent  \n",
       "                                                        \n",
       "1   17.907   1611648.0      Mock       casp1  0.017520  \n",
       "2   41.676   3750837.0      Mock       casp1  0.030151  \n",
       "1  427.914  38512227.0       T1L       casp1  0.316595  \n",
       "2  435.249  39172373.0       T1L       casp1  0.308494  \n",
       "3  181.905  16371448.0       T1L       casp1  0.152343  \n",
       "4  158.870  14298320.0       T1L       casp1  0.130138  \n",
       "1   29.992   2699280.0     K287T       casp1  0.022779  \n",
       "2   46.666   4199940.0     K287T       casp1  0.042286  \n",
       "3    5.590    503141.0     K287T       casp1  0.004314  \n",
       "4   39.717   3574546.0     K287T       casp1  0.030228  "
      ]
     },
     "execution_count": 82,
     "metadata": {},
     "output_type": "execute_result"
    }
   ],
   "source": [
    "# casp1_data_mock = pd.read_csv(\"./../../../../MouseInfectionImages/Mock/Summary_if_casp1.csv\", index_col=0)\n",
    "# casp1_data_T1L = pd.read_csv(\"./../../../../MouseInfectionImages/T1L/Summary_if_casp1.csv\", index_col=0)\n",
    "# casp1_data_K287T = pd.read_csv(\"./../../../../MouseInfectionImages/K287T/Summary_if_casp1.csv\", index_col=0)\n",
    "# casp1_data = pd.concat([casp1_data_mock, casp1_data_T1L, casp1_data_K287T]).drop_duplicates(subset =\"Label\")\n",
    "\n",
    "# casp1_data\n",
    "# casp1_data[\"Condition\"] = [x.split(\"-\")[0].split(\"_\")[0] for x in casp1_data[\"Label\"]]\n",
    "# casp1_data[\"Measurement\"] = [x.split(\":\")[1] for x in casp1_data[\"Label\"]]\n",
    "# casp1_data_measurement = casp1_data[casp1_data[\"Measurement\"].isin([\"casp1\"])]\n",
    "# casp1_data_measurement\n",
    "# casp1_data_final = casp1_data_measurement\n",
    "# casp1_data_final[\"Percent\"] = (casp1_data_measurement[\"Area\"].to_numpy()/ reovirus_data_total[\"Area\"].to_numpy()) * 100\n",
    "# casp1_data_final"
   ]
  },
  {
   "cell_type": "code",
   "execution_count": 83,
   "id": "photographic-nelson",
   "metadata": {},
   "outputs": [
    {
     "name": "stderr",
     "output_type": "stream",
     "text": [
      "No handles with labels found to put in legend.\n"
     ]
    },
    {
     "name": "stdout",
     "output_type": "stream",
     "text": [
      "p-value annotation legend:\n",
      "      ns: p <= 1.00e+00\n",
      "       *: 1.00e-02 < p <= 5.00e-02\n",
      "      **: 1.00e-03 < p <= 1.00e-02\n",
      "     ***: 1.00e-04 < p <= 1.00e-03\n",
      "    ****: p <= 1.00e-04\n",
      "\n",
      "T1L vs. K287T: Mann-Whitney-Wilcoxon test two-sided, P_val:2.857e-02 U_stat=1.600e+01\n"
     ]
    },
    {
     "name": "stderr",
     "output_type": "stream",
     "text": [
      "/home/mm2937/.local/lib/python3.8/site-packages/statannotations/_Plotter.py:337: UserWarning: Invalid x-position found. Are the same parameters passed to seaborn and statannotations calls? or are there few data points?\n",
      "  warnings.warn(\n"
     ]
    },
    {
     "data": {
      "image/png": "[encoded data removed]",
      "text/plain": [
       "<Figure size 86.4x86.4 with 1 Axes>"
      ]
     },
     "metadata": {
      "needs_background": "light"
     },
     "output_type": "display_data"
    }
   ],
   "source": [
    "# fig, ax = plt.subplots(figsize=(1.2, 1.2))\n",
    "# plt.rc('font', size=6)\n",
    "# ax.set_axisbelow(True)\n",
    "# plt.grid(False)\n",
    "# ax.tick_params(axis='y', which='major', pad=0)\n",
    "# ax.tick_params(axis='x', which='major', pad=2)\n",
    "# sns.stripplot(data = casp1_data_final, y= \"Percent\", x = \"Condition\", size=2.0, color = \"black\", ax=ax)\n",
    "# sns.boxplot(data = casp1_data_final, y= \"Percent\", x = \"Condition\", linewidth = 0.5, fliersize = 0.0, ax=ax)\n",
    "# ax.set_xticklabels(ax.get_xticklabels(), rotation=0, horizontalalignment='center')\n",
    "# plt.legend(ncol=1, prop={'size': 6}, handletextpad=0.5, markerscale = 0.6, frameon = False, labelspacing = 0.2, bbox_to_anchor = (1.0,1.0))\n",
    "# plt.tight_layout()\n",
    "# plt.margins(x=0, y=0)\n",
    "# plt.xlabel(\"Condition\", labelpad=2)\n",
    "# plt.ylabel(\"Percent of tissue\", labelpad=0)\n",
    "# pairs=[(\"T1L\", \"K287T\")]\n",
    "# annotator = Annotator(ax, pairs, data=casp1_data_final, x=\"Condition\", y=\"Percent\")\n",
    "# annotator.configure(test='Mann-Whitney', text_format='star', loc='inside', text_offset = -2, line_offset = -2, line_width = 0.5, line_height = 0.05, line_offset_to_group = 0)\n",
    "# annotator.apply_and_annotate()\n",
    "# # plt.show()\n",
    "# plt.savefig(\"figures/imaging_IF_casp1_area.pdf\", facecolor='w', edgecolor='w',\n",
    "#         orientation='potrait', format=\"pdf\",\n",
    "#         transparent=True, metadata=None)"
   ]
  },
  {
   "cell_type": "code",
   "execution_count": 308,
   "id": "passive-phase",
   "metadata": {},
   "outputs": [],
   "source": [
    "hne_data_mock = pd.read_csv(\"./../../../../MouseInfectionImages/Mock/Summary_hne_area.csv\", index_col=0)\n",
    "hne_data_T1L = pd.read_csv(\"./../../../../MouseInfectionImages/T1L/Summary_hne_area.csv\", index_col=0)\n",
    "hne_data_K287T = pd.read_csv(\"./../../../../MouseInfectionImages/K287T/Summary_hne_area.csv\", index_col=0)\n",
    "hne_data = pd.concat([hne_data_mock, hne_data_T1L, hne_data_K287T]).drop_duplicates(subset =\"Label\")\n",
    "hne_data[\"Condition\"] = [x.split(\"-\")[0].split(\"_\")[0] for x in hne_data[\"Label\"]]\n",
    "hne_data[\"Measurement\"] = [x.split(\":\")[1] for x in hne_data[\"Label\"]]\n",
    "hne_data_measurement = hne_data[hne_data[\"Measurement\"].isin([\"myocarditic\"])]\n",
    "hne_data_total = hne_data[hne_data[\"Measurement\"].isin([\"total\"])]\n",
    "hne_data_final = hne_data_measurement\n",
    "hne_data_final = hne_data_final.rename(columns = {\"Area\": \"MyocarditicArea\"})\n",
    "# hne_data_final = hne_data_final.rename(columns = {\"Mean\": \"MeanIntensity\"})\n",
    "hne_data_final[\"TotalArea\"] = hne_data_total[\"Area\"].to_numpy()\n",
    "hne_data_final[\"Percent\"] = (hne_data_final[\"MyocarditicArea\"].to_numpy()/ hne_data_final[\"TotalArea\"].to_numpy()) * 100\n",
    "hne_data_final.to_csv(\"./../../../csvs_github/hne_data.csv\")"
   ]
  },
  {
   "cell_type": "code",
   "execution_count": 307,
   "id": "norman-empty",
   "metadata": {},
   "outputs": [
    {
     "name": "stderr",
     "output_type": "stream",
     "text": [
      "No handles with labels found to put in legend.\n",
      "/home/mm2937/.local/lib/python3.8/site-packages/statannotations/_Plotter.py:337: UserWarning: Invalid x-position found. Are the same parameters passed to seaborn and statannotations calls? or are there few data points?\n",
      "  warnings.warn(\n"
     ]
    },
    {
     "name": "stdout",
     "output_type": "stream",
     "text": [
      "p-value annotation legend:\n",
      "      ns: p <= 1.00e+00\n",
      "       *: 1.00e-02 < p <= 5.00e-02\n",
      "      **: 1.00e-03 < p <= 1.00e-02\n",
      "     ***: 1.00e-04 < p <= 1.00e-03\n",
      "    ****: p <= 1.00e-04\n",
      "\n",
      "T1L vs. K287T: Mann-Whitney-Wilcoxon test two-sided, P_val:2.857e-02 U_stat=1.600e+01\n"
     ]
    },
    {
     "data": {
      "image/png": "[encoded data removed]",
      "text/plain": [
       "<Figure size 86.4x86.4 with 1 Axes>"
      ]
     },
     "metadata": {
      "needs_background": "light"
     },
     "output_type": "display_data"
    }
   ],
   "source": [
    "fig, ax = plt.subplots(figsize=(1.2, 1.2))\n",
    "plt.rc('font', size=6)\n",
    "ax.set_axisbelow(True)\n",
    "plt.grid(False)\n",
    "ax.tick_params(axis='y', which='major', pad=0)\n",
    "ax.tick_params(axis='x', which='major', pad=2)\n",
    "sns.stripplot(data = hne_data_final, y= \"Percent\", x = \"Condition\", size=2.0, color = \"black\", ax=ax)\n",
    "sns.boxplot(data = hne_data_final, y= \"Percent\", x = \"Condition\", linewidth = 0.5, fliersize = 1.0, ax=ax)\n",
    "ax.set_xticklabels(ax.get_xticklabels(), rotation=0, horizontalalignment='center')\n",
    "plt.legend(ncol=1, prop={'size': 6}, handletextpad=0.5, markerscale = 0.6, frameon = False, labelspacing = 0.2, bbox_to_anchor = (1.0,1.0))\n",
    "plt.tight_layout()\n",
    "plt.margins(x=0, y=0)\n",
    "plt.xlabel(\"Condition\", labelpad=2)\n",
    "plt.ylabel(\"Percent of tissue\", labelpad=0)\n",
    "pairs=[(\"T1L\", \"K287T\")]\n",
    "annotator = Annotator(ax, pairs, data=hne_data_final, x=\"Condition\", y=\"Percent\")\n",
    "annotator.configure(test='Mann-Whitney', text_format='star', loc='inside', text_offset = -2, line_offset = -2, line_width = 0.5, line_height = 0.05, line_offset_to_group = 0)\n",
    "annotator.apply_and_annotate()\n",
    "# plt.show()\n",
    "plt.savefig(\"figures/imaging_hne_area.pdf\", facecolor='w', edgecolor='w',\n",
    "        orientation='potrait', format=\"pdf\",\n",
    "        transparent=True, metadata=None)"
   ]
  },
  {
   "cell_type": "code",
   "execution_count": 343,
   "id": "closing-segment",
   "metadata": {},
   "outputs": [],
   "source": [
    "t1l_p20_data = pd.read_csv(\"./../../../../MouseInfectionImages/IF06192022/slide_17_647/Summary.csv\")\n",
    "t1l_p20_data.index = [x.split(\"-TR\")[0] for x in t1l_p20_data[\"Slice\"]]\n",
    "t1l_p20_area = pd.read_csv(\"./../../../../MouseInfectionImages/IF06192022/slide_17_area/Results_manual.csv\", index_col=0)\n",
    "t1l_p20_area.index =  [x.split(\"-TR\")[0] for x in t1l_p20_area[\"Label\"]]\n",
    "t1l_p20_data[\"Tissue Area\"] = t1l_p20_area[\"Area\"]\n",
    "t1l_p20_data[\"Percent\"] = (t1l_p20_data[\"Total Area\"]/ t1l_p20_data[\"Tissue Area\"])  * 100\n",
    "t1l_p20_data[\"Condition\"] = t1l_p20_data[\"Condition\"].astype(\"category\")\n",
    "t1l_p20_data[\"Condition\"] = t1l_p20_data[\"Condition\"].cat.reorder_categories(['Mock', 'T1L'])\n",
    "k287_p20_data = pd.read_csv(\"./../../../../MouseInfectionImages/IF06192022/k287t_p20/Summary.csv\")\n",
    "k287_p20_data.index = [x.split(\"-TR\")[0] for x in k287_p20_data[\"Slice\"]]\n",
    "k287_p20_area = pd.read_csv(\"./../../../../MouseInfectionImages/IF06192022/k287t_p20_area/Results_manual.csv\", index_col=0)\n",
    "k287_p20_area.index =  [x.split(\"-TR\")[0] for x in k287_p20_area[\"Label\"]]\n",
    "k287_p20_data[\"Tissue Area\"] = k287_p20_area[\"Area\"]\n",
    "k287_p20_data[\"Percent\"] = (k287_p20_data[\"Total Area\"]/ k287_p20_data[\"Tissue Area\"]) * 100\n",
    "k287_p20_data[\"Condition\"] = \"K287T\"\n",
    "k287_p20_data = pd.concat([t1l_p20_data, k287_p20_data]).drop_duplicates(subset =\"Slice\")\n",
    "k287_p20_data[\"Condition\"] = k287_p20_data[\"Condition\"].astype(\"category\")\n",
    "k287_p20_data[\"Condition\"] = k287_p20_data[\"Condition\"].cat.reorder_categories(['Mock', 'T1L', \"K287T\"])"
   ]
  },
  {
   "cell_type": "code",
   "execution_count": 346,
   "id": "chicken-pierre",
   "metadata": {},
   "outputs": [],
   "source": [
    "k287_p20_data.to_csv(\"./../../../csvs_github/K287T_p20_IF_data.csv\")"
   ]
  },
  {
   "cell_type": "code",
   "execution_count": 327,
   "id": "miniature-assault",
   "metadata": {},
   "outputs": [
    {
     "name": "stderr",
     "output_type": "stream",
     "text": [
      "No handles with labels found to put in legend.\n"
     ]
    },
    {
     "name": "stdout",
     "output_type": "stream",
     "text": [
      "p-value annotation legend:\n",
      "      ns: p <= 1.00e+00\n",
      "       *: 1.00e-02 < p <= 5.00e-02\n",
      "      **: 1.00e-03 < p <= 1.00e-02\n",
      "     ***: 1.00e-04 < p <= 1.00e-03\n",
      "    ****: p <= 1.00e-04\n",
      "\n",
      "T1L vs. K287T: Mann-Whitney-Wilcoxon test two-sided, P_val:1.032e-04 U_stat=8.300e+01\n"
     ]
    },
    {
     "data": {
      "image/png": "[encoded data removed]",
      "text/plain": [
       "<Figure size 79.2x86.4 with 1 Axes>"
      ]
     },
     "metadata": {
      "needs_background": "light"
     },
     "output_type": "display_data"
    }
   ],
   "source": [
    "fig, ax = plt.subplots(figsize=(1.1, 1.2))\n",
    "plt.rc('font', size=6)\n",
    "ax.set_axisbelow(True)\n",
    "plt.grid(False)\n",
    "ax.tick_params(axis='y', which='major', pad=0)\n",
    "ax.tick_params(axis='x', which='major', pad=2)\n",
    "sns.stripplot(data = k287_p20_data, y= \"Percent\", x = \"Condition\", size=2.0, color = \"black\", ax=ax)\n",
    "sns.boxplot(data = k287_p20_data, y= \"Percent\", x = \"Condition\", linewidth = 0.5, fliersize = 1.0, ax=ax)\n",
    "ax.set_xticklabels(ax.get_xticklabels(), rotation=0, horizontalalignment='center')\n",
    "plt.legend(ncol=1, prop={'size': 6}, handletextpad=0.5, markerscale = 0.6, frameon = False, labelspacing = 0.2, bbox_to_anchor = (1.0,1.0))\n",
    "plt.tight_layout()\n",
    "pairs=[(\"K287T\", \"T1L\")]\n",
    "plt.margins(x=0, y=0)\n",
    "plt.xlabel(\"Condition\", labelpad=2)\n",
    "plt.ylabel(\"Percent of tissue\", labelpad=0)\n",
    "annotator = Annotator(ax, pairs, data=k287_p20_data, x=\"Condition\", y=\"Percent\")\n",
    "annotator.configure(test='Mann-Whitney', text_format='star', loc='inside', text_offset = -2, line_offset = -2, line_width = 0.5, line_height = 0.05, line_offset_to_group = 0)\n",
    "annotator.apply_and_annotate()\n",
    "# plt.show()\n",
    "plt.savefig(\"figures/imaging_p20_k287t.pdf\", facecolor='w', edgecolor='w',\n",
    "        orientation='potrait', format=\"pdf\",\n",
    "        transparent=True, metadata=None)"
   ]
  },
  {
   "cell_type": "code",
   "execution_count": 347,
   "id": "secondary-carol",
   "metadata": {},
   "outputs": [],
   "source": [
    "t1l_p20_data = pd.read_csv(\"./../../../../MouseInfectionImages/IF06192022/slide_18_647/Summary.csv\")\n",
    "t1l_p20_data.index = [x.split(\"-TR\")[0] for x in t1l_p20_data[\"Slice\"]]\n",
    "t1l_p20_area = pd.read_csv(\"./../../../../MouseInfectionImages/IF06192022/slide_18_area/Results_manual.csv\", index_col=0)\n",
    "t1l_p20_area.index =  [x.split(\"-TR\")[0] for x in t1l_p20_area[\"Label\"]]\n",
    "t1l_p20_data[\"Tissue Area\"] = t1l_p20_area[\"Area\"]\n",
    "t1l_p20_data[\"Percent\"] = (t1l_p20_data[\"Total Area\"]/ t1l_p20_data[\"Tissue Area\"])  * 100\n",
    "t1l_p20_data[\"Condition\"] = t1l_p20_data[\"Condition\"].astype(\"category\")\n",
    "t1l_p20_data[\"Condition\"] = t1l_p20_data[\"Condition\"].cat.reorder_categories(['Mock', 'T1L'])\n",
    "k287_p20_data = pd.read_csv(\"./../../../../MouseInfectionImages/IF06192022/k287t_gsdmd/Summary.csv\")\n",
    "k287_p20_data.index = [x.split(\"-TR\")[0] for x in k287_p20_data[\"Slice\"]]\n",
    "k287_p20_area = pd.read_csv(\"./../../../../MouseInfectionImages/IF06192022/k287t_gsdmd_area/Results_manual.csv\", index_col=0)\n",
    "k287_p20_area.index =  [x.split(\"-TR\")[0] for x in k287_p20_area[\"Label\"]]\n",
    "k287_p20_data[\"Tissue Area\"] = k287_p20_area[\"Area\"]\n",
    "k287_p20_data[\"Percent\"] = (k287_p20_data[\"Total Area\"]/ k287_p20_data[\"Tissue Area\"]) * 100\n",
    "k287_p20_data[\"Condition\"] = \"K287T\"\n",
    "k287_p20_data = pd.concat([t1l_p20_data, k287_p20_data]).drop_duplicates(subset =\"Slice\")\n",
    "k287_p20_data[\"Condition\"] = k287_p20_data[\"Condition\"].astype(\"category\")\n",
    "k287_p20_data[\"Condition\"] = k287_p20_data[\"Condition\"].cat.reorder_categories(['Mock', 'T1L', \"K287T\"])"
   ]
  },
  {
   "cell_type": "code",
   "execution_count": 350,
   "id": "absent-player",
   "metadata": {},
   "outputs": [],
   "source": [
    "k287_p20_data.to_csv(\"./../../../csvs_github/K287T_gsdmd_IF_data.csv\")"
   ]
  },
  {
   "cell_type": "code",
   "execution_count": 329,
   "id": "pleasant-prevention",
   "metadata": {},
   "outputs": [
    {
     "name": "stderr",
     "output_type": "stream",
     "text": [
      "No handles with labels found to put in legend.\n"
     ]
    },
    {
     "name": "stdout",
     "output_type": "stream",
     "text": [
      "p-value annotation legend:\n",
      "      ns: p <= 1.00e+00\n",
      "       *: 1.00e-02 < p <= 5.00e-02\n",
      "      **: 1.00e-03 < p <= 1.00e-02\n",
      "     ***: 1.00e-04 < p <= 1.00e-03\n",
      "    ****: p <= 1.00e-04\n",
      "\n",
      "T1L vs. K287T: Mann-Whitney-Wilcoxon test two-sided, P_val:5.160e-05 U_stat=8.400e+01\n"
     ]
    },
    {
     "data": {
      "image/png": "[encoded data removed]",
      "text/plain": [
       "<Figure size 86.4x86.4 with 1 Axes>"
      ]
     },
     "metadata": {
      "needs_background": "light"
     },
     "output_type": "display_data"
    }
   ],
   "source": [
    "fig, ax = plt.subplots(figsize=(1.2, 1.2))\n",
    "plt.rc('font', size=6)\n",
    "ax.set_axisbelow(True)\n",
    "plt.grid(False)\n",
    "ax.tick_params(axis='y', which='major', pad=0)\n",
    "ax.tick_params(axis='x', which='major', pad=2)\n",
    "sns.stripplot(data = k287_p20_data, y= \"Percent\", x = \"Condition\", size=2.0, color = \"black\", ax=ax)\n",
    "sns.boxplot(data = k287_p20_data, y= \"Percent\", x = \"Condition\", linewidth = 0.5, fliersize = 1.0, ax=ax)\n",
    "ax.set_xticklabels(ax.get_xticklabels(), rotation=0, horizontalalignment='center')\n",
    "plt.legend(ncol=1, prop={'size': 6}, handletextpad=0.5, markerscale = 0.6, frameon = False, labelspacing = 0.2, bbox_to_anchor = (1.0,1.0))\n",
    "plt.tight_layout()\n",
    "pairs=[(\"K287T\", \"T1L\")]\n",
    "plt.margins(x=0, y=0)\n",
    "plt.xlabel(\"Condition\", labelpad=2)\n",
    "plt.ylabel(\"Percent of tissue\", labelpad=0)\n",
    "annotator = Annotator(ax, pairs, data=k287_p20_data, x=\"Condition\", y=\"Percent\")\n",
    "annotator.configure(test='Mann-Whitney', text_format='star', loc='inside', text_offset = -2, line_offset = -2, line_width = 0.5, line_height = 0.05, line_offset_to_group = 0)\n",
    "annotator.apply_and_annotate()\n",
    "# plt.show()\n",
    "plt.savefig(\"figures/imaging_gsdmd_k287t.pdf\", facecolor='w', edgecolor='w',\n",
    "        orientation='potrait', format=\"pdf\",\n",
    "        transparent=True, metadata=None)"
   ]
  },
  {
   "cell_type": "code",
   "execution_count": 341,
   "id": "latin-belize",
   "metadata": {},
   "outputs": [],
   "source": [
    "Tcell_data = pd.read_csv(\"./../../../../MouseInfectionImages/IF06192022/slide_15_488_546_647/Summary.csv\")\n",
    "Tcell_data.index = [x.split(\"-TR\")[0] for x in Tcell_data[\"Slice\"]]\n",
    "Tcell_data[\"Channel\"] = [x.split(\"_stitch_stitch_\")[1].split(\".\")[0] for x in Tcell_data[\"Slice\"]]\n",
    "Tcell_total = pd.read_csv(\"./../../../../MouseInfectionImages/IF06192022/slide_14_15_DAPI_images/Summary_final.csv\")\n",
    "Tcell_total.index =  [x.split(\"-TR\")[0] for x in Tcell_total[\"Slice\"]]\n",
    "Tcell_data[\"Total\"] = Tcell_total[\"Count\"]\n",
    "Tcell_data[\"Condition\"] = Tcell_total[\"Condition\"]\n",
    "Tcell_data[\"Sex\"] = Tcell_total[\"Sex\"]\n",
    "Tcell_data[\"Percent\"] = (Tcell_data[\"Count\"]/ Tcell_data[\"Total\"])  * 100\n",
    "Tcell_data[\"Condition\"] = Tcell_data[\"Condition\"].astype(\"category\")\n",
    "Tcell_data[\"Condition\"] = Tcell_data[\"Condition\"].cat.reorder_categories(['Mock', 'T1L'])\n",
    "\n",
    "k287_tcell_data = pd.read_csv(\"./../../../../MouseInfectionImages/K287T/Tcells_488_647/Summary.csv\")\n",
    "k287_tcell_data.index = [x.split(\"_stitch_stitch_\")[0] for x in k287_tcell_data[\"Slice\"]]\n",
    "k287_tcell_data[\"Channel\"] = [x.split(\"_stitch_stitch_\")[1].split(\".\")[0] for x in k287_tcell_data[\"Slice\"]]\n",
    "k287_tcell_total = pd.read_csv(\"./../../../../MouseInfectionImages/K287T/Tcells_nuclei/Summary.csv\")\n",
    "k287_tcell_total.index =  [x.split(\"_stitch_stitch_\")[0] for x in k287_tcell_total[\"Slice\"]]\n",
    "k287_tcell_data[\"TotalCounts\"] = k287_tcell_total[\"Count\"]\n",
    "k287_tcell_data[\"Percent\"] = (k287_tcell_data[\"Count\"]/ k287_tcell_data[\"TotalCounts\"]) * 100\n",
    "k287_tcell_data[\"Condition\"] = \"K287T\"\n",
    "k287_tcell_data = pd.concat([Tcell_data, k287_tcell_data]).drop_duplicates(subset =\"Slice\")\n",
    "k287_tcell_data[\"Condition\"] = k287_tcell_data[\"Condition\"].astype(\"category\")\n",
    "k287_tcell_data[\"Condition\"] = k287_tcell_data[\"Condition\"].cat.reorder_categories(['Mock', 'T1L', \"K287T\"])"
   ]
  },
  {
   "cell_type": "code",
   "execution_count": 340,
   "id": "veterinary-fantasy",
   "metadata": {
    "scrolled": true
   },
   "outputs": [
    {
     "data": {
      "text/plain": [
       "(27, 13)"
      ]
     },
     "execution_count": 340,
     "metadata": {},
     "output_type": "execute_result"
    }
   ],
   "source": [
    "k287_tcell_data = k287_tcell_data[k287_tcell_data[\"Channel\"].isin([\"AF488\"])]\n",
    "k287_tcell_data = k287_tcell_data.rename(columns={\"Count\": \"Trbc2_counts\"})\n",
    "k287_tcell_data.to_csv(\"./../../../csvs_github/K287T_trbc2_FISH_data.csv\")\n",
    "k287_tcell_data.shape"
   ]
  },
  {
   "cell_type": "code",
   "execution_count": 273,
   "id": "internal-economics",
   "metadata": {},
   "outputs": [
    {
     "name": "stderr",
     "output_type": "stream",
     "text": [
      "No handles with labels found to put in legend.\n"
     ]
    },
    {
     "name": "stdout",
     "output_type": "stream",
     "text": [
      "p-value annotation legend:\n",
      "      ns: p <= 1.00e+00\n",
      "       *: 1.00e-02 < p <= 5.00e-02\n",
      "      **: 1.00e-03 < p <= 1.00e-02\n",
      "     ***: 1.00e-04 < p <= 1.00e-03\n",
      "    ****: p <= 1.00e-04\n",
      "\n",
      "T1L vs. K287T: Mann-Whitney-Wilcoxon test two-sided, P_val:1.528e-01 U_stat=6.000e+01\n"
     ]
    },
    {
     "data": {
      "image/png": "[encoded data removed]",
      "text/plain": [
       "<Figure size 86.4x86.4 with 1 Axes>"
      ]
     },
     "metadata": {
      "needs_background": "light"
     },
     "output_type": "display_data"
    }
   ],
   "source": [
    "k287_tcell_data = k287_tcell_data[k287_tcell_data[\"Channel\"].isin([\"AF488\"])]\n",
    "fig, ax = plt.subplots(figsize=(1.2, 1.2))\n",
    "plt.rc('font', size=6)\n",
    "ax.set_axisbelow(True)\n",
    "plt.grid(False)\n",
    "ax.tick_params(axis='y', which='major', pad=0)\n",
    "ax.tick_params(axis='x', which='major', pad=2)\n",
    "sns.stripplot(data = k287_tcell_data, y= \"Percent\", x = \"Condition\", size=2.0, color = \"black\", ax=ax)\n",
    "sns.boxplot(data = k287_tcell_data, y= \"Percent\", x = \"Condition\", linewidth = 0.5, fliersize = 1.0, ax=ax)\n",
    "ax.set_xticklabels(ax.get_xticklabels(), rotation=0, horizontalalignment='center')\n",
    "plt.legend(ncol=1, prop={'size': 6}, handletextpad=0.5, markerscale = 0.6, frameon = False, labelspacing = 0.2, bbox_to_anchor = (1.0,1.0))\n",
    "plt.tight_layout()\n",
    "pairs=[( \"T1L\", \"K287T\")]\n",
    "plt.margins(x=0, y=0)\n",
    "plt.xlabel(\"Condition\", labelpad=2)\n",
    "plt.ylabel(\"Percent of T cells\", labelpad=0)\n",
    "annotator = Annotator(ax, pairs, data=k287_tcell_data, x=\"Condition\", y=\"Percent\")\n",
    "annotator.configure(test='Mann-Whitney', text_format='star', loc='inside', text_offset = -2, line_offset = -2, line_width = 0.5, line_height = 0.05, line_offset_to_group = 0)\n",
    "annotator.apply_and_annotate()\n",
    "# plt.show()\n",
    "plt.savefig(\"figures/imaging_tcells_k287t.pdf\", facecolor='w', edgecolor='w',\n",
    "        orientation='potrait', format=\"pdf\",\n",
    "        transparent=True, metadata=None)"
   ]
  },
  {
   "cell_type": "code",
   "execution_count": 342,
   "id": "classical-victim",
   "metadata": {},
   "outputs": [
    {
     "data": {
      "text/plain": [
       "(26, 13)"
      ]
     },
     "execution_count": 342,
     "metadata": {},
     "output_type": "execute_result"
    }
   ],
   "source": [
    "k287_tcell_data = k287_tcell_data[k287_tcell_data[\"Channel\"].isin([\"AF647\"])]\n",
    "k287_tcell_data = k287_tcell_data.rename(columns={\"Count\": \"Prf1_counts\"})\n",
    "k287_tcell_data.to_csv(\"./../../../csvs_github/K287T_prf1_FISH_data.csv\")\n",
    "k287_tcell_data.shape"
   ]
  },
  {
   "cell_type": "code",
   "execution_count": 277,
   "id": "global-convergence",
   "metadata": {},
   "outputs": [
    {
     "name": "stderr",
     "output_type": "stream",
     "text": [
      "No handles with labels found to put in legend.\n"
     ]
    },
    {
     "name": "stdout",
     "output_type": "stream",
     "text": [
      "p-value annotation legend:\n",
      "      ns: p <= 1.00e+00\n",
      "       *: 1.00e-02 < p <= 5.00e-02\n",
      "      **: 1.00e-03 < p <= 1.00e-02\n",
      "     ***: 1.00e-04 < p <= 1.00e-03\n",
      "    ****: p <= 1.00e-04\n",
      "\n",
      "T1L vs. K287T: Mann-Whitney-Wilcoxon test two-sided, P_val:1.538e-02 U_stat=7.100e+01\n"
     ]
    },
    {
     "data": {
      "image/png": "[encoded data removed]",
      "text/plain": [
       "<Figure size 86.4x86.4 with 1 Axes>"
      ]
     },
     "metadata": {
      "needs_background": "light"
     },
     "output_type": "display_data"
    }
   ],
   "source": [
    "k287_tcell_data = k287_tcell_data[k287_tcell_data[\"Channel\"].isin([\"AF647\"])]\n",
    "fig, ax = plt.subplots(figsize=(1.2, 1.2))\n",
    "plt.rc('font', size=6)\n",
    "ax.set_axisbelow(True)\n",
    "plt.grid(False)\n",
    "ax.tick_params(axis='y', which='major', pad=0)\n",
    "ax.tick_params(axis='x', which='major', pad=2)\n",
    "sns.stripplot(data = k287_tcell_data, y= \"Percent\", x = \"Condition\", size=2.0, color = \"black\", ax=ax)\n",
    "sns.boxplot(data = k287_tcell_data, y= \"Percent\", x = \"Condition\", linewidth = 0.5, fliersize = 1.0, ax=ax)\n",
    "ax.set_xticklabels(ax.get_xticklabels(), rotation=0, horizontalalignment='center')\n",
    "plt.legend(ncol=1, prop={'size': 6}, handletextpad=0.5, markerscale = 0.6, frameon = False, labelspacing = 0.2, bbox_to_anchor = (1.0,1.0))\n",
    "plt.tight_layout()\n",
    "pairs=[( \"T1L\", \"K287T\")]\n",
    "plt.margins(x=0, y=0)\n",
    "plt.xlabel(\"Condition\", labelpad=2)\n",
    "plt.ylabel(\"Percent of Prf1+ cells\", labelpad=0)\n",
    "annotator = Annotator(ax, pairs, data=k287_tcell_data, x=\"Condition\", y=\"Percent\")\n",
    "annotator.configure(test='Mann-Whitney', text_format='star', loc='inside', text_offset = -2, line_offset = -2, line_width = 0.5, line_height = 0.05, line_offset_to_group = 0)\n",
    "annotator.apply_and_annotate()\n",
    "# plt.show()\n",
    "plt.savefig(\"figures/imaging_prf1_k287t.pdf\", facecolor='w', edgecolor='w',\n",
    "        orientation='potrait', format=\"pdf\",\n",
    "        transparent=True, metadata=None)"
   ]
  },
  {
   "cell_type": "code",
   "execution_count": null,
   "id": "controversial-rolling",
   "metadata": {},
   "outputs": [],
   "source": []
  }
 ],
 "metadata": {
  "kernelspec": {
   "display_name": "Python 3 (ipykernel)",
   "language": "python",
   "name": "python3"
  },
  "language_info": {
   "codemirror_mode": {
    "name": "ipython",
    "version": 3
   },
   "file_extension": ".py",
   "mimetype": "text/x-python",
   "name": "python",
   "nbconvert_exporter": "python",
   "pygments_lexer": "ipython3",
   "version": "3.8.5"
  }
 },
 "nbformat": 4,
 "nbformat_minor": 5
}
